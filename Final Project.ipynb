{
 "cells": [
  {
   "cell_type": "markdown",
   "metadata": {},
   "source": [
    "# IST - 707 Data Analytics\n",
    "**Saheb Singh** <br>\n",
    "**Laxman Kumar** <br>\n",
    "**Abhiraj Singh**"
   ]
  },
  {
   "cell_type": "markdown",
   "metadata": {},
   "source": [
    "## Importing Libraries"
   ]
  },
  {
   "cell_type": "code",
   "execution_count": 1,
   "metadata": {},
   "outputs": [],
   "source": [
    "import pandas as pd\n",
    "from pandas import DataFrame, Series\n",
    "import numpy as np\n",
    "import matplotlib.pyplot as plt\n",
    "from matplotlib.pyplot import figure\n",
    "from sklearn import preprocessing\n",
    "from sklearn.preprocessing import LabelEncoder\n",
    "from sklearn.model_selection import train_test_split, GridSearchCV\n",
    "from scipy.spatial import distance_matrix\n",
    "from sklearn.cluster import KMeans,AgglomerativeClustering\n",
    "from sklearn.preprocessing import MinMaxScaler\n",
    "from sklearn.ensemble import AdaBoostClassifier, RandomForestClassifier, ExtraTreesClassifier, GradientBoostingClassifier\n",
    "from sklearn.metrics import classification_report, confusion_matrix, precision_score, recall_score, f1_score, roc_curve, roc_auc_score, accuracy_score\n",
    "from sklearn.tree import DecisionTreeClassifier, export_graphviz\n",
    "from IPython.display import Image\n",
    "from xgboost import XGBClassifier\n",
    "import tensorflow as tf\n",
    "from tensorflow.keras.models import Sequential\n",
    "from tensorflow.keras.layers import Dense, Activation,Dropout\n",
    "from sklearn.svm import SVC\n",
    "from sklearn import svm\n",
    "from sklearn.model_selection import cross_val_score, StratifiedKFold\n",
    "import pydotplus\n",
    "from mlxtend.frequent_patterns import apriori, association_rules\n",
    "import seaborn as sns\n",
    "import math\n",
    "import os\n",
    "import plotly.graph_objects as go\n",
    "import seaborn as sns; sns.set()\n",
    "import matplotlib.pyplot as plt\n",
    "from sklearn.linear_model import LinearRegression\n",
    "from sklearn.decomposition import PCA"
   ]
  },
  {
   "cell_type": "markdown",
   "metadata": {},
   "source": [
    "## Loading the data"
   ]
  },
  {
   "cell_type": "code",
   "execution_count": 2,
   "metadata": {},
   "outputs": [],
   "source": [
    "df = pd.read_csv('data.csv')\n",
    "#df = pd.read_csv('CleanedMerged.csv')"
   ]
  },
  {
   "cell_type": "code",
   "execution_count": 69,
   "metadata": {},
   "outputs": [],
   "source": [
    "#df.head()"
   ]
  },
  {
   "cell_type": "markdown",
   "metadata": {},
   "source": [
    "## Data Cleaning"
   ]
  },
  {
   "cell_type": "markdown",
   "metadata": {},
   "source": [
    "### Getting the number of rows and columns in the data"
   ]
  },
  {
   "cell_type": "code",
   "execution_count": 4,
   "metadata": {},
   "outputs": [
    {
     "data": {
      "text/plain": [
       "(5144, 145)"
      ]
     },
     "execution_count": 4,
     "metadata": {},
     "output_type": "execute_result"
    }
   ],
   "source": [
    "df.shape"
   ]
  },
  {
   "cell_type": "markdown",
   "metadata": {},
   "source": [
    "There are 5144 numbers of rows. And each row has 145 number of columns. "
   ]
  },
  {
   "cell_type": "markdown",
   "metadata": {},
   "source": [
    "#### Selecting Relevant Columns"
   ]
  },
  {
   "cell_type": "markdown",
   "metadata": {},
   "source": [
    "We looked at our dataset and our data description, and looked at the relevant columns. Therefore we would only select those columns which are relevant. "
   ]
  },
  {
   "cell_type": "code",
   "execution_count": 5,
   "metadata": {},
   "outputs": [],
   "source": [
    "a = ['date', 'B_fighter', 'R_fighter', 'Winner', 'B_current_lose_streak',\n",
    "       'B_current_win_streak', 'B_draw', 'B_longest_win_streak', 'B_losses',\n",
    "       'B_total_rounds_fought', 'B_total_title_bouts',\n",
    "       'B_win_by_Decision_Majority', 'B_win_by_Decision_Split',\n",
    "       'B_win_by_Decision_Unanimous', 'B_win_by_KO/TKO', 'B_win_by_Submission',\n",
    "       'B_win_by_TKO_Doctor_Stoppage', 'B_wins', 'B_Stance', 'B_Height_cms',\n",
    "       'B_Reach_cms', 'B_Weight_lbs', 'R_current_lose_streak',\n",
    "       'R_current_win_streak', 'R_draw', 'R_longest_win_streak', 'R_losses',\n",
    "       'R_total_rounds_fought', 'R_total_title_bouts',\n",
    "       'R_win_by_Decision_Majority', 'R_win_by_Decision_Split',\n",
    "       'R_win_by_Decision_Unanimous', 'R_win_by_KO/TKO', 'R_win_by_Submission',\n",
    "       'R_win_by_TKO_Doctor_Stoppage', 'R_wins', 'R_Stance', 'R_Height_cms',\n",
    "       'R_Reach_cms', 'R_Weight_lbs', 'B_age', 'R_age']"
   ]
  },
  {
   "cell_type": "code",
   "execution_count": 6,
   "metadata": {},
   "outputs": [],
   "source": [
    "df = df[a]"
   ]
  },
  {
   "cell_type": "markdown",
   "metadata": {},
   "source": [
    "#### Shape of the new Dataframe"
   ]
  },
  {
   "cell_type": "code",
   "execution_count": 7,
   "metadata": {},
   "outputs": [
    {
     "data": {
      "text/plain": [
       "(5144, 42)"
      ]
     },
     "execution_count": 7,
     "metadata": {},
     "output_type": "execute_result"
    }
   ],
   "source": [
    "df.shape"
   ]
  },
  {
   "cell_type": "markdown",
   "metadata": {},
   "source": [
    "#### Fixing the datetime in the dataframe"
   ]
  },
  {
   "cell_type": "code",
   "execution_count": 8,
   "metadata": {},
   "outputs": [],
   "source": [
    "df['date'] = pd.to_datetime(df['date'])"
   ]
  },
  {
   "cell_type": "markdown",
   "metadata": {},
   "source": [
    "## Data Preprocessing "
   ]
  },
  {
   "cell_type": "markdown",
   "metadata": {},
   "source": [
    "#### Replacing empty string with nan"
   ]
  },
  {
   "cell_type": "code",
   "execution_count": 9,
   "metadata": {},
   "outputs": [],
   "source": [
    "df = df.replace(r'^\\s*$', np.nan, regex=True)\n",
    "df = df.fillna(np.nan)"
   ]
  },
  {
   "cell_type": "markdown",
   "metadata": {},
   "source": [
    "#### Renaming some of our columns"
   ]
  },
  {
   "cell_type": "code",
   "execution_count": 10,
   "metadata": {},
   "outputs": [],
   "source": [
    "df.rename(columns={\"B_win_by_KO/TKO\": \"B_win_by_KO_TKO\", \"R_win_by_KO/TKO\": \"R_win_by_KO_TKO\"},inplace=True)"
   ]
  },
  {
   "cell_type": "code",
   "execution_count": 11,
   "metadata": {},
   "outputs": [
    {
     "data": {
      "text/plain": [
       "array(['Red', 'Blue', 'Draw'], dtype=object)"
      ]
     },
     "execution_count": 11,
     "metadata": {},
     "output_type": "execute_result"
    }
   ],
   "source": [
    "# Getting the list of target variables\n",
    "df.Winner.unique()"
   ]
  },
  {
   "cell_type": "markdown",
   "metadata": {},
   "source": [
    "#### Removing Draws \n",
    "As this is a binary classification. We are only taking Winner and Looser, therefore we are removing all the rows where the result is Draw. "
   ]
  },
  {
   "cell_type": "code",
   "execution_count": 12,
   "metadata": {},
   "outputs": [],
   "source": [
    "df = df[df.Winner != 'Draw']"
   ]
  },
  {
   "cell_type": "markdown",
   "metadata": {},
   "source": [
    "### Viewing basic statistics about the data"
   ]
  },
  {
   "cell_type": "code",
   "execution_count": 13,
   "metadata": {},
   "outputs": [
    {
     "data": {
      "text/html": [
       "<div>\n",
       "<style scoped>\n",
       "    .dataframe tbody tr th:only-of-type {\n",
       "        vertical-align: middle;\n",
       "    }\n",
       "\n",
       "    .dataframe tbody tr th {\n",
       "        vertical-align: top;\n",
       "    }\n",
       "\n",
       "    .dataframe thead th {\n",
       "        text-align: right;\n",
       "    }\n",
       "</style>\n",
       "<table border=\"1\" class=\"dataframe\">\n",
       "  <thead>\n",
       "    <tr style=\"text-align: right;\">\n",
       "      <th></th>\n",
       "      <th>B_current_lose_streak</th>\n",
       "      <th>B_current_win_streak</th>\n",
       "      <th>B_draw</th>\n",
       "      <th>B_longest_win_streak</th>\n",
       "      <th>B_losses</th>\n",
       "      <th>B_total_rounds_fought</th>\n",
       "      <th>B_total_title_bouts</th>\n",
       "      <th>B_win_by_Decision_Majority</th>\n",
       "      <th>B_win_by_Decision_Split</th>\n",
       "      <th>B_win_by_Decision_Unanimous</th>\n",
       "      <th>...</th>\n",
       "      <th>R_win_by_Decision_Unanimous</th>\n",
       "      <th>R_win_by_KO_TKO</th>\n",
       "      <th>R_win_by_Submission</th>\n",
       "      <th>R_win_by_TKO_Doctor_Stoppage</th>\n",
       "      <th>R_wins</th>\n",
       "      <th>R_Height_cms</th>\n",
       "      <th>R_Reach_cms</th>\n",
       "      <th>R_Weight_lbs</th>\n",
       "      <th>B_age</th>\n",
       "      <th>R_age</th>\n",
       "    </tr>\n",
       "  </thead>\n",
       "  <tbody>\n",
       "    <tr>\n",
       "      <th>count</th>\n",
       "      <td>5061.000000</td>\n",
       "      <td>5061.000000</td>\n",
       "      <td>5061.0</td>\n",
       "      <td>5061.000000</td>\n",
       "      <td>5061.000000</td>\n",
       "      <td>5061.000000</td>\n",
       "      <td>5061.000000</td>\n",
       "      <td>5061.000000</td>\n",
       "      <td>5061.000000</td>\n",
       "      <td>5061.000000</td>\n",
       "      <td>...</td>\n",
       "      <td>5061.000000</td>\n",
       "      <td>5061.000000</td>\n",
       "      <td>5061.000000</td>\n",
       "      <td>5061.000000</td>\n",
       "      <td>5061.000000</td>\n",
       "      <td>5057.000000</td>\n",
       "      <td>4752.000000</td>\n",
       "      <td>5058.000000</td>\n",
       "      <td>4891.000000</td>\n",
       "      <td>4998.000000</td>\n",
       "    </tr>\n",
       "    <tr>\n",
       "      <th>mean</th>\n",
       "      <td>0.429955</td>\n",
       "      <td>0.833235</td>\n",
       "      <td>0.0</td>\n",
       "      <td>1.585062</td>\n",
       "      <td>1.462754</td>\n",
       "      <td>8.903972</td>\n",
       "      <td>0.277811</td>\n",
       "      <td>0.016993</td>\n",
       "      <td>0.211421</td>\n",
       "      <td>0.778502</td>\n",
       "      <td>...</td>\n",
       "      <td>1.178423</td>\n",
       "      <td>1.254100</td>\n",
       "      <td>0.778502</td>\n",
       "      <td>0.071725</td>\n",
       "      <td>3.600869</td>\n",
       "      <td>179.293763</td>\n",
       "      <td>183.682837</td>\n",
       "      <td>172.075326</td>\n",
       "      <td>29.175833</td>\n",
       "      <td>29.427371</td>\n",
       "    </tr>\n",
       "    <tr>\n",
       "      <th>std</th>\n",
       "      <td>0.730263</td>\n",
       "      <td>1.284542</td>\n",
       "      <td>0.0</td>\n",
       "      <td>1.771906</td>\n",
       "      <td>1.865975</td>\n",
       "      <td>11.242031</td>\n",
       "      <td>1.107056</td>\n",
       "      <td>0.130777</td>\n",
       "      <td>0.525210</td>\n",
       "      <td>1.294768</td>\n",
       "      <td>...</td>\n",
       "      <td>1.602733</td>\n",
       "      <td>1.792344</td>\n",
       "      <td>1.327774</td>\n",
       "      <td>0.278677</td>\n",
       "      <td>3.708439</td>\n",
       "      <td>8.651769</td>\n",
       "      <td>10.309217</td>\n",
       "      <td>35.168220</td>\n",
       "      <td>4.078995</td>\n",
       "      <td>4.140642</td>\n",
       "    </tr>\n",
       "    <tr>\n",
       "      <th>min</th>\n",
       "      <td>0.000000</td>\n",
       "      <td>0.000000</td>\n",
       "      <td>0.0</td>\n",
       "      <td>0.000000</td>\n",
       "      <td>0.000000</td>\n",
       "      <td>0.000000</td>\n",
       "      <td>0.000000</td>\n",
       "      <td>0.000000</td>\n",
       "      <td>0.000000</td>\n",
       "      <td>0.000000</td>\n",
       "      <td>...</td>\n",
       "      <td>0.000000</td>\n",
       "      <td>0.000000</td>\n",
       "      <td>0.000000</td>\n",
       "      <td>0.000000</td>\n",
       "      <td>0.000000</td>\n",
       "      <td>152.400000</td>\n",
       "      <td>152.400000</td>\n",
       "      <td>115.000000</td>\n",
       "      <td>18.000000</td>\n",
       "      <td>19.000000</td>\n",
       "    </tr>\n",
       "    <tr>\n",
       "      <th>25%</th>\n",
       "      <td>0.000000</td>\n",
       "      <td>0.000000</td>\n",
       "      <td>0.0</td>\n",
       "      <td>0.000000</td>\n",
       "      <td>0.000000</td>\n",
       "      <td>1.000000</td>\n",
       "      <td>0.000000</td>\n",
       "      <td>0.000000</td>\n",
       "      <td>0.000000</td>\n",
       "      <td>0.000000</td>\n",
       "      <td>...</td>\n",
       "      <td>0.000000</td>\n",
       "      <td>0.000000</td>\n",
       "      <td>0.000000</td>\n",
       "      <td>0.000000</td>\n",
       "      <td>1.000000</td>\n",
       "      <td>172.720000</td>\n",
       "      <td>177.800000</td>\n",
       "      <td>145.000000</td>\n",
       "      <td>26.000000</td>\n",
       "      <td>26.000000</td>\n",
       "    </tr>\n",
       "    <tr>\n",
       "      <th>50%</th>\n",
       "      <td>0.000000</td>\n",
       "      <td>0.000000</td>\n",
       "      <td>0.0</td>\n",
       "      <td>1.000000</td>\n",
       "      <td>1.000000</td>\n",
       "      <td>5.000000</td>\n",
       "      <td>0.000000</td>\n",
       "      <td>0.000000</td>\n",
       "      <td>0.000000</td>\n",
       "      <td>0.000000</td>\n",
       "      <td>...</td>\n",
       "      <td>1.000000</td>\n",
       "      <td>1.000000</td>\n",
       "      <td>0.000000</td>\n",
       "      <td>0.000000</td>\n",
       "      <td>2.000000</td>\n",
       "      <td>180.340000</td>\n",
       "      <td>185.420000</td>\n",
       "      <td>170.000000</td>\n",
       "      <td>29.000000</td>\n",
       "      <td>29.000000</td>\n",
       "    </tr>\n",
       "    <tr>\n",
       "      <th>75%</th>\n",
       "      <td>1.000000</td>\n",
       "      <td>1.000000</td>\n",
       "      <td>0.0</td>\n",
       "      <td>2.000000</td>\n",
       "      <td>2.000000</td>\n",
       "      <td>13.000000</td>\n",
       "      <td>0.000000</td>\n",
       "      <td>0.000000</td>\n",
       "      <td>0.000000</td>\n",
       "      <td>1.000000</td>\n",
       "      <td>...</td>\n",
       "      <td>2.000000</td>\n",
       "      <td>2.000000</td>\n",
       "      <td>1.000000</td>\n",
       "      <td>0.000000</td>\n",
       "      <td>5.000000</td>\n",
       "      <td>185.420000</td>\n",
       "      <td>190.500000</td>\n",
       "      <td>185.000000</td>\n",
       "      <td>32.000000</td>\n",
       "      <td>32.000000</td>\n",
       "    </tr>\n",
       "    <tr>\n",
       "      <th>max</th>\n",
       "      <td>6.000000</td>\n",
       "      <td>12.000000</td>\n",
       "      <td>0.0</td>\n",
       "      <td>16.000000</td>\n",
       "      <td>13.000000</td>\n",
       "      <td>75.000000</td>\n",
       "      <td>16.000000</td>\n",
       "      <td>2.000000</td>\n",
       "      <td>5.000000</td>\n",
       "      <td>10.000000</td>\n",
       "      <td>...</td>\n",
       "      <td>10.000000</td>\n",
       "      <td>11.000000</td>\n",
       "      <td>13.000000</td>\n",
       "      <td>2.000000</td>\n",
       "      <td>20.000000</td>\n",
       "      <td>210.820000</td>\n",
       "      <td>213.360000</td>\n",
       "      <td>345.000000</td>\n",
       "      <td>51.000000</td>\n",
       "      <td>47.000000</td>\n",
       "    </tr>\n",
       "  </tbody>\n",
       "</table>\n",
       "<p>8 rows × 36 columns</p>\n",
       "</div>"
      ],
      "text/plain": [
       "       B_current_lose_streak  B_current_win_streak  B_draw  \\\n",
       "count            5061.000000           5061.000000  5061.0   \n",
       "mean                0.429955              0.833235     0.0   \n",
       "std                 0.730263              1.284542     0.0   \n",
       "min                 0.000000              0.000000     0.0   \n",
       "25%                 0.000000              0.000000     0.0   \n",
       "50%                 0.000000              0.000000     0.0   \n",
       "75%                 1.000000              1.000000     0.0   \n",
       "max                 6.000000             12.000000     0.0   \n",
       "\n",
       "       B_longest_win_streak     B_losses  B_total_rounds_fought  \\\n",
       "count           5061.000000  5061.000000            5061.000000   \n",
       "mean               1.585062     1.462754               8.903972   \n",
       "std                1.771906     1.865975              11.242031   \n",
       "min                0.000000     0.000000               0.000000   \n",
       "25%                0.000000     0.000000               1.000000   \n",
       "50%                1.000000     1.000000               5.000000   \n",
       "75%                2.000000     2.000000              13.000000   \n",
       "max               16.000000    13.000000              75.000000   \n",
       "\n",
       "       B_total_title_bouts  B_win_by_Decision_Majority  \\\n",
       "count          5061.000000                 5061.000000   \n",
       "mean              0.277811                    0.016993   \n",
       "std               1.107056                    0.130777   \n",
       "min               0.000000                    0.000000   \n",
       "25%               0.000000                    0.000000   \n",
       "50%               0.000000                    0.000000   \n",
       "75%               0.000000                    0.000000   \n",
       "max              16.000000                    2.000000   \n",
       "\n",
       "       B_win_by_Decision_Split  B_win_by_Decision_Unanimous  ...  \\\n",
       "count              5061.000000                  5061.000000  ...   \n",
       "mean                  0.211421                     0.778502  ...   \n",
       "std                   0.525210                     1.294768  ...   \n",
       "min                   0.000000                     0.000000  ...   \n",
       "25%                   0.000000                     0.000000  ...   \n",
       "50%                   0.000000                     0.000000  ...   \n",
       "75%                   0.000000                     1.000000  ...   \n",
       "max                   5.000000                    10.000000  ...   \n",
       "\n",
       "       R_win_by_Decision_Unanimous  R_win_by_KO_TKO  R_win_by_Submission  \\\n",
       "count                  5061.000000      5061.000000          5061.000000   \n",
       "mean                      1.178423         1.254100             0.778502   \n",
       "std                       1.602733         1.792344             1.327774   \n",
       "min                       0.000000         0.000000             0.000000   \n",
       "25%                       0.000000         0.000000             0.000000   \n",
       "50%                       1.000000         1.000000             0.000000   \n",
       "75%                       2.000000         2.000000             1.000000   \n",
       "max                      10.000000        11.000000            13.000000   \n",
       "\n",
       "       R_win_by_TKO_Doctor_Stoppage       R_wins  R_Height_cms  R_Reach_cms  \\\n",
       "count                   5061.000000  5061.000000   5057.000000  4752.000000   \n",
       "mean                       0.071725     3.600869    179.293763   183.682837   \n",
       "std                        0.278677     3.708439      8.651769    10.309217   \n",
       "min                        0.000000     0.000000    152.400000   152.400000   \n",
       "25%                        0.000000     1.000000    172.720000   177.800000   \n",
       "50%                        0.000000     2.000000    180.340000   185.420000   \n",
       "75%                        0.000000     5.000000    185.420000   190.500000   \n",
       "max                        2.000000    20.000000    210.820000   213.360000   \n",
       "\n",
       "       R_Weight_lbs        B_age        R_age  \n",
       "count   5058.000000  4891.000000  4998.000000  \n",
       "mean     172.075326    29.175833    29.427371  \n",
       "std       35.168220     4.078995     4.140642  \n",
       "min      115.000000    18.000000    19.000000  \n",
       "25%      145.000000    26.000000    26.000000  \n",
       "50%      170.000000    29.000000    29.000000  \n",
       "75%      185.000000    32.000000    32.000000  \n",
       "max      345.000000    51.000000    47.000000  \n",
       "\n",
       "[8 rows x 36 columns]"
      ]
     },
     "execution_count": 13,
     "metadata": {},
     "output_type": "execute_result"
    }
   ],
   "source": [
    "df.describe()"
   ]
  },
  {
   "cell_type": "markdown",
   "metadata": {},
   "source": [
    "### Removing Constant columns\n",
    "Constant columns have no variation and therefore does not contribute to our dataset"
   ]
  },
  {
   "cell_type": "code",
   "execution_count": 14,
   "metadata": {},
   "outputs": [],
   "source": [
    "# Distinguishing between  categorical and numeric columns\n",
    "\n",
    "categorical = list(df.select_dtypes(include=['object']))\n",
    "numeric = df.columns.tolist()\n",
    "constants = []\n",
    "for c in categorical:\n",
    "    numeric.remove(c)\n",
    "for col in numeric:\n",
    "    if min(df[col]) == max(df[col]):\n",
    "        constants.append(col)\n",
    "if len(constants)>0: \n",
    "    df.drop(columns = constants, axis=1, inplace=True)"
   ]
  },
  {
   "cell_type": "markdown",
   "metadata": {},
   "source": [
    "#### Get count of na and null in each column"
   ]
  },
  {
   "cell_type": "code",
   "execution_count": 67,
   "metadata": {},
   "outputs": [],
   "source": [
    "#### Get count of na and null in each column\n",
    "#df.isna().sum()"
   ]
  },
  {
   "cell_type": "markdown",
   "metadata": {},
   "source": [
    "### Cleaning the dataframe"
   ]
  },
  {
   "cell_type": "code",
   "execution_count": 16,
   "metadata": {},
   "outputs": [],
   "source": [
    "# Dropping NA values in stance\n",
    "df.dropna(subset = ['R_Stance', 'B_Stance'], inplace = True, axis = 0)"
   ]
  },
  {
   "cell_type": "markdown",
   "metadata": {},
   "source": [
    "#### Replacing the nan of height with its median"
   ]
  },
  {
   "cell_type": "code",
   "execution_count": 17,
   "metadata": {},
   "outputs": [],
   "source": [
    "df[\"B_Height_cms\"] = df[\"B_Height_cms\"].fillna(value=df[\"B_Height_cms\"].median())\n",
    "df[\"R_Height_cms\"] = df[\"R_Height_cms\"].fillna(value=df[\"R_Height_cms\"].median())\n",
    "df[\"B_Reach_cms\"] = df[\"B_Reach_cms\"].fillna(value=df[\"B_Reach_cms\"].median())\n",
    "df[\"R_Reach_cms\"] = df[\"R_Reach_cms\"].fillna(value=df[\"R_Reach_cms\"].median())"
   ]
  },
  {
   "cell_type": "markdown",
   "metadata": {},
   "source": [
    "#### Dropping the missing values"
   ]
  },
  {
   "cell_type": "code",
   "execution_count": 18,
   "metadata": {},
   "outputs": [],
   "source": [
    "df.dropna(axis=0, inplace=True)\n",
    "df.reset_index(inplace=True, drop=True)"
   ]
  },
  {
   "cell_type": "code",
   "execution_count": 68,
   "metadata": {},
   "outputs": [],
   "source": [
    "#df.columns.values.tolist()"
   ]
  },
  {
   "cell_type": "code",
   "execution_count": 20,
   "metadata": {},
   "outputs": [
    {
     "data": {
      "text/plain": [
       "(4635, 40)"
      ]
     },
     "execution_count": 20,
     "metadata": {},
     "output_type": "execute_result"
    }
   ],
   "source": [
    "df.shape"
   ]
  },
  {
   "cell_type": "markdown",
   "metadata": {},
   "source": [
    "### One hot encoding "
   ]
  },
  {
   "cell_type": "markdown",
   "metadata": {},
   "source": [
    "Before encoding Winner(target variabel) we are encoding R Stance and B Stance. This will help us with binary classification later on."
   ]
  },
  {
   "cell_type": "code",
   "execution_count": 21,
   "metadata": {},
   "outputs": [],
   "source": [
    "# Selecting columns to be encoded\n",
    "toBeEncoded = ['B_Stance','R_Stance']\n",
    "df_encoded = df[toBeEncoded]\n",
    "\n",
    "# Encoding the data\n",
    "df_encoded = pd.get_dummies(df_encoded)\n",
    "\n",
    "# Renaming the encoding columns\n",
    "df_encoded.rename(columns={\n",
    "    \"B_Stance_Open Stance\": \"B_Stance_Open_Stance\",\n",
    "    \"R_Stance_Open Stance\": \"R_Stance_Open_Stance\"},inplace=True)\n",
    "\n",
    "# Droping the initial uncoded fields\n",
    "df.drop(toBeEncoded, axis=1, inplace=True) \n",
    "\n",
    "# Concatenating the encoded dataframe at the end\n",
    "df = pd.concat([df,df_encoded],1)\n",
    "#df.head(3)"
   ]
  },
  {
   "cell_type": "markdown",
   "metadata": {},
   "source": [
    "### Encoding Blue = 1 and Red = 0\n",
    "**Since this is a binary classification we are replacing Blue with value 1 and Red with value 0. 1 means that the winner of the fight was the B_fighter.**"
   ]
  },
  {
   "cell_type": "code",
   "execution_count": 22,
   "metadata": {},
   "outputs": [],
   "source": [
    "df['Winner'] = df['Winner'].replace(['Blue', 'Red'], [1, 0]).values"
   ]
  },
  {
   "cell_type": "code",
   "execution_count": 23,
   "metadata": {},
   "outputs": [],
   "source": [
    "# Shuffling the data\n",
    "df_processed = df.sample(frac=1, random_state=110).reset_index(drop=True)"
   ]
  },
  {
   "cell_type": "markdown",
   "metadata": {},
   "source": [
    "### Training and Testing Dataset"
   ]
  },
  {
   "cell_type": "code",
   "execution_count": 24,
   "metadata": {
    "scrolled": true
   },
   "outputs": [
    {
     "name": "stdout",
     "output_type": "stream",
     "text": [
      "(3708, 43)\n",
      "(927, 43)\n"
     ]
    }
   ],
   "source": [
    "X = df_processed.drop(columns=['Winner', 'date', 'B_fighter', 'R_fighter']).copy()\n",
    "y = df_processed['Winner']\n",
    "x_train, x_test, y_train, y_test = train_test_split(X, y, test_size=0.2, random_state=130)\n",
    "print(x_train.shape)\n",
    "print(x_test.shape)"
   ]
  },
  {
   "cell_type": "markdown",
   "metadata": {},
   "source": [
    "# Machine Learning Models"
   ]
  },
  {
   "cell_type": "markdown",
   "metadata": {},
   "source": [
    "## Random Forest"
   ]
  },
  {
   "cell_type": "markdown",
   "metadata": {},
   "source": [
    "**Random forests or random decision forests are an ensemble learning method for classification, regression and other tasks that operate by constructing a multitude of decision trees at training time and outputting the class that is the mode of the classes (classification) or mean/average prediction (regression) of all the output of the decision trees.**"
   ]
  },
  {
   "cell_type": "code",
   "execution_count": 25,
   "metadata": {},
   "outputs": [],
   "source": [
    "# Initialising Random Forest \n",
    "rf = RandomForestClassifier()"
   ]
  },
  {
   "cell_type": "markdown",
   "metadata": {},
   "source": [
    "### Optimising Random Forest By Tuning Hyperparameters"
   ]
  },
  {
   "cell_type": "markdown",
   "metadata": {},
   "source": [
    "**n_estimators = number of trees in the foreset<br>\n",
    "max_features = max number of features considered for splitting a node<br>\n",
    "max_depth = max number of levels in each decision tree<br>\n",
    "min_samples_split = min number of data points placed in a node before the node is split<br>\n",
    "min_samples_leaf = min number of data points allowed in a leaf node<br>\n",
    "bootstrap = method for sampling data points (with or without replacement)**"
   ]
  },
  {
   "cell_type": "code",
   "execution_count": 26,
   "metadata": {},
   "outputs": [],
   "source": [
    "param_grid = {'n_estimators': [100, 200, 400],\n",
    "               'max_features': ['sqrt', 'auto'],\n",
    "               'max_depth': [10, 20, 30],\n",
    "               'min_samples_split': [3, 5, 10],\n",
    "               'min_samples_leaf': [1, 2, 4],\n",
    "               'bootstrap': [True, False]}\n",
    "\n",
    "grid_rf = GridSearchCV(rf, param_grid, cv=3, verbose=0, scoring='accuracy')"
   ]
  },
  {
   "cell_type": "code",
   "execution_count": 27,
   "metadata": {
    "scrolled": true
   },
   "outputs": [
    {
     "data": {
      "text/plain": [
       "GridSearchCV(cv=3, estimator=RandomForestClassifier(),\n",
       "             param_grid={'bootstrap': [True, False], 'max_depth': [10, 20, 30],\n",
       "                         'max_features': ['sqrt', 'auto'],\n",
       "                         'min_samples_leaf': [1, 2, 4],\n",
       "                         'min_samples_split': [3, 5, 10],\n",
       "                         'n_estimators': [100, 200, 400]},\n",
       "             scoring='accuracy')"
      ]
     },
     "execution_count": 27,
     "metadata": {},
     "output_type": "execute_result"
    }
   ],
   "source": [
    "grid_rf.fit(x_train, y_train)"
   ]
  },
  {
   "cell_type": "markdown",
   "metadata": {},
   "source": [
    "### Model Evaluation using Training Data"
   ]
  },
  {
   "cell_type": "code",
   "execution_count": 28,
   "metadata": {},
   "outputs": [
    {
     "name": "stdout",
     "output_type": "stream",
     "text": [
      "              precision    recall  f1-score   support\n",
      "\n",
      "           0       0.71      0.96      0.82       644\n",
      "           1       0.53      0.11      0.18       283\n",
      "\n",
      "    accuracy                           0.70       927\n",
      "   macro avg       0.62      0.53      0.50       927\n",
      "weighted avg       0.66      0.70      0.62       927\n",
      "\n",
      "AUC:  0.5338075851019467\n",
      "Accuracy Score:  0.6990291262135923\n"
     ]
    }
   ],
   "source": [
    "pred_rf_pipeline = grid_rf.predict(x_test) \n",
    "print(classification_report(y_test, pred_rf_pipeline))\n",
    "print(\"AUC: \",roc_auc_score(y_test, pred_rf_pipeline))\n",
    "print(\"Accuracy Score: \",accuracy_score(y_test, pred_rf_pipeline))"
   ]
  },
  {
   "cell_type": "markdown",
   "metadata": {},
   "source": [
    "After tuning the hyperparameter we get an accuraacy of 0.7 and recall of 0.96 for Random Forest. "
   ]
  },
  {
   "cell_type": "markdown",
   "metadata": {},
   "source": [
    "##  SVM"
   ]
  },
  {
   "cell_type": "markdown",
   "metadata": {},
   "source": [
    "**Support Vector Machine (SVM) is a widely-used supervised machine learning algorithm. It is mostly used in classification tasks but suitable for regression tasks as well.**"
   ]
  },
  {
   "cell_type": "code",
   "execution_count": 29,
   "metadata": {},
   "outputs": [],
   "source": [
    "# Initialising SVM Forest \n",
    "lin_svm = svm.LinearSVC()"
   ]
  },
  {
   "cell_type": "markdown",
   "metadata": {},
   "source": [
    "### Optimising SVM By Tuning Hyperparameters"
   ]
  },
  {
   "cell_type": "markdown",
   "metadata": {},
   "source": [
    "**C parameter adds a penalty for each misclassified data point. If c is small, the penalty for misclassified points is low so a decision boundary with a large margin is chosen at the expense of a greater number of misclassifications. If c is large, SVM tries to minimize the number of misclassified examples due to high penalty which results in a decision boundary with a smaller margin.**"
   ]
  },
  {
   "cell_type": "code",
   "execution_count": 30,
   "metadata": {},
   "outputs": [],
   "source": [
    "param_grid = {'C':[0.001,0.01,0.1,1.0,10,100,1000],'penalty':['l2','l1']}\n",
    "grid_svm = GridSearchCV(lin_svm, param_grid, cv=3, verbose=0, scoring='accuracy')"
   ]
  },
  {
   "cell_type": "code",
   "execution_count": 31,
   "metadata": {},
   "outputs": [
    {
     "name": "stderr",
     "output_type": "stream",
     "text": [
      "/Users/sahebsingh/anaconda3/lib/python3.7/site-packages/sklearn/svm/_base.py:977: ConvergenceWarning: Liblinear failed to converge, increase the number of iterations.\n",
      "  \"the number of iterations.\", ConvergenceWarning)\n",
      "/Users/sahebsingh/anaconda3/lib/python3.7/site-packages/sklearn/svm/_base.py:977: ConvergenceWarning: Liblinear failed to converge, increase the number of iterations.\n",
      "  \"the number of iterations.\", ConvergenceWarning)\n",
      "/Users/sahebsingh/anaconda3/lib/python3.7/site-packages/sklearn/svm/_base.py:977: ConvergenceWarning: Liblinear failed to converge, increase the number of iterations.\n",
      "  \"the number of iterations.\", ConvergenceWarning)\n",
      "/Users/sahebsingh/anaconda3/lib/python3.7/site-packages/sklearn/svm/_base.py:977: ConvergenceWarning: Liblinear failed to converge, increase the number of iterations.\n",
      "  \"the number of iterations.\", ConvergenceWarning)\n",
      "/Users/sahebsingh/anaconda3/lib/python3.7/site-packages/sklearn/svm/_base.py:977: ConvergenceWarning: Liblinear failed to converge, increase the number of iterations.\n",
      "  \"the number of iterations.\", ConvergenceWarning)\n",
      "/Users/sahebsingh/anaconda3/lib/python3.7/site-packages/sklearn/svm/_base.py:977: ConvergenceWarning: Liblinear failed to converge, increase the number of iterations.\n",
      "  \"the number of iterations.\", ConvergenceWarning)\n",
      "/Users/sahebsingh/anaconda3/lib/python3.7/site-packages/sklearn/svm/_base.py:977: ConvergenceWarning: Liblinear failed to converge, increase the number of iterations.\n",
      "  \"the number of iterations.\", ConvergenceWarning)\n",
      "/Users/sahebsingh/anaconda3/lib/python3.7/site-packages/sklearn/svm/_base.py:977: ConvergenceWarning: Liblinear failed to converge, increase the number of iterations.\n",
      "  \"the number of iterations.\", ConvergenceWarning)\n",
      "/Users/sahebsingh/anaconda3/lib/python3.7/site-packages/sklearn/svm/_base.py:977: ConvergenceWarning: Liblinear failed to converge, increase the number of iterations.\n",
      "  \"the number of iterations.\", ConvergenceWarning)\n",
      "/Users/sahebsingh/anaconda3/lib/python3.7/site-packages/sklearn/svm/_base.py:977: ConvergenceWarning: Liblinear failed to converge, increase the number of iterations.\n",
      "  \"the number of iterations.\", ConvergenceWarning)\n",
      "/Users/sahebsingh/anaconda3/lib/python3.7/site-packages/sklearn/svm/_base.py:977: ConvergenceWarning: Liblinear failed to converge, increase the number of iterations.\n",
      "  \"the number of iterations.\", ConvergenceWarning)\n",
      "/Users/sahebsingh/anaconda3/lib/python3.7/site-packages/sklearn/svm/_base.py:977: ConvergenceWarning: Liblinear failed to converge, increase the number of iterations.\n",
      "  \"the number of iterations.\", ConvergenceWarning)\n",
      "/Users/sahebsingh/anaconda3/lib/python3.7/site-packages/sklearn/svm/_base.py:977: ConvergenceWarning: Liblinear failed to converge, increase the number of iterations.\n",
      "  \"the number of iterations.\", ConvergenceWarning)\n",
      "/Users/sahebsingh/anaconda3/lib/python3.7/site-packages/sklearn/svm/_base.py:977: ConvergenceWarning: Liblinear failed to converge, increase the number of iterations.\n",
      "  \"the number of iterations.\", ConvergenceWarning)\n",
      "/Users/sahebsingh/anaconda3/lib/python3.7/site-packages/sklearn/svm/_base.py:977: ConvergenceWarning: Liblinear failed to converge, increase the number of iterations.\n",
      "  \"the number of iterations.\", ConvergenceWarning)\n",
      "/Users/sahebsingh/anaconda3/lib/python3.7/site-packages/sklearn/svm/_base.py:977: ConvergenceWarning: Liblinear failed to converge, increase the number of iterations.\n",
      "  \"the number of iterations.\", ConvergenceWarning)\n",
      "/Users/sahebsingh/anaconda3/lib/python3.7/site-packages/sklearn/svm/_base.py:977: ConvergenceWarning: Liblinear failed to converge, increase the number of iterations.\n",
      "  \"the number of iterations.\", ConvergenceWarning)\n",
      "/Users/sahebsingh/anaconda3/lib/python3.7/site-packages/sklearn/svm/_base.py:977: ConvergenceWarning: Liblinear failed to converge, increase the number of iterations.\n",
      "  \"the number of iterations.\", ConvergenceWarning)\n",
      "/Users/sahebsingh/anaconda3/lib/python3.7/site-packages/sklearn/svm/_base.py:977: ConvergenceWarning: Liblinear failed to converge, increase the number of iterations.\n",
      "  \"the number of iterations.\", ConvergenceWarning)\n",
      "/Users/sahebsingh/anaconda3/lib/python3.7/site-packages/sklearn/svm/_base.py:977: ConvergenceWarning: Liblinear failed to converge, increase the number of iterations.\n",
      "  \"the number of iterations.\", ConvergenceWarning)\n",
      "/Users/sahebsingh/anaconda3/lib/python3.7/site-packages/sklearn/svm/_base.py:977: ConvergenceWarning: Liblinear failed to converge, increase the number of iterations.\n",
      "  \"the number of iterations.\", ConvergenceWarning)\n",
      "/Users/sahebsingh/anaconda3/lib/python3.7/site-packages/sklearn/svm/_base.py:977: ConvergenceWarning: Liblinear failed to converge, increase the number of iterations.\n",
      "  \"the number of iterations.\", ConvergenceWarning)\n"
     ]
    },
    {
     "data": {
      "text/plain": [
       "GridSearchCV(cv=3, estimator=LinearSVC(),\n",
       "             param_grid={'C': [0.001, 0.01, 0.1, 1.0, 10, 100, 1000],\n",
       "                         'penalty': ['l2']},\n",
       "             scoring='accuracy')"
      ]
     },
     "execution_count": 31,
     "metadata": {},
     "output_type": "execute_result"
    }
   ],
   "source": [
    "grid_svm.fit(x_train, y_train)"
   ]
  },
  {
   "cell_type": "markdown",
   "metadata": {},
   "source": [
    "### Model Evaluation using Training Data"
   ]
  },
  {
   "cell_type": "code",
   "execution_count": 32,
   "metadata": {},
   "outputs": [
    {
     "name": "stdout",
     "output_type": "stream",
     "text": [
      "              precision    recall  f1-score   support\n",
      "\n",
      "           0       0.71      0.96      0.82       644\n",
      "           1       0.57      0.12      0.19       283\n",
      "\n",
      "    accuracy                           0.70       927\n",
      "   macro avg       0.64      0.54      0.51       927\n",
      "weighted avg       0.67      0.70      0.63       927\n",
      "\n",
      "AUC:  0.5388939490375962\n",
      "Accuracy Score:  0.703344120819849\n"
     ]
    }
   ],
   "source": [
    "#Predicting using Pipeline\n",
    "pred_lin_pipeline = grid_svm.predict(x_test) \n",
    "print(classification_report(y_test, pred_lin_pipeline))\n",
    "print(\"AUC: \",roc_auc_score(y_test, pred_lin_pipeline))\n",
    "print(\"Accuracy Score: \",accuracy_score(y_test, pred_lin_pipeline))"
   ]
  },
  {
   "cell_type": "markdown",
   "metadata": {},
   "source": [
    "We get accuracy of 0.7 and recall of 0.96 which is similar to that of Random Forest. "
   ]
  },
  {
   "cell_type": "markdown",
   "metadata": {},
   "source": [
    "## Gradient Boosting Classifier"
   ]
  },
  {
   "cell_type": "markdown",
   "metadata": {},
   "source": [
    "**Boosting algorithms play a crucial role in dealing with bias variance trade-off.  Unlike bagging algorithms, which only controls for high variance in a model, boosting controls both the aspects (bias & variance), and is considered to be more effective.  A sincere understanding of GBM here should give you much needed confidence to deal with such critical issues.**"
   ]
  },
  {
   "cell_type": "code",
   "execution_count": 33,
   "metadata": {},
   "outputs": [],
   "source": [
    "# Initialising Gradiet Boosting Classifier \n",
    "xgbClf = XGBClassifier()"
   ]
  },
  {
   "cell_type": "markdown",
   "metadata": {},
   "source": [
    "### Optimising Gradient Boosting By Tuning Hyperparameters"
   ]
  },
  {
   "cell_type": "markdown",
   "metadata": {},
   "source": [
    "**min_samples_split: Defines the minimum number of samples (or observations) which are required in a node to be considered for splitting.<br>\n",
    "min_samples_leaf: Defines the minimum samples (or observations) required in a terminal node or leaf.Used to control over-fitting similar to min_samples_split.Generally lower values should be chosen for imbalanced class problems because the regions in which the minority class will be in majority will be very small.<br>\n",
    "min_weight_fraction_leaf: Similar to min_samples_leaf but defined as a fraction of the total number of observations instead of an integer. <br>\n",
    "max_depth: The maximum depth of a tree.Used to control over-fitting as higher depth will allow model to learn relations very specific to a particular sample.<br>\n",
    "max_leaf_nodes: The maximum number of terminal nodes or leaves in a tree.**"
   ]
  },
  {
   "cell_type": "code",
   "execution_count": 34,
   "metadata": {},
   "outputs": [],
   "source": [
    "param_grid = {'learning_rate':[0.15,0.1,0.05,0.005,0.001], \n",
    "              'n_estimators':[100,250,500,750,1000],\n",
    "              'max_depth':[2,3,4,5,6,7],\n",
    "              'min_child_weight': [1, 5, 10],\n",
    "              'gamma': [0.5, 1, 1.5, 2, 5]}\n",
    "\n",
    "grid_xgb = GridSearchCV(xgbClf, param_grid, cv=3, verbose=0, scoring='accuracy')"
   ]
  },
  {
   "cell_type": "code",
   "execution_count": 70,
   "metadata": {},
   "outputs": [],
   "source": [
    "#grid_xgb.fit(x_train, y_train)"
   ]
  },
  {
   "cell_type": "markdown",
   "metadata": {},
   "source": [
    "### Model Evaluation using Training Data"
   ]
  },
  {
   "cell_type": "code",
   "execution_count": 36,
   "metadata": {},
   "outputs": [
    {
     "name": "stdout",
     "output_type": "stream",
     "text": [
      "              precision    recall  f1-score   support\n",
      "\n",
      "           0       0.72      0.95      0.82       644\n",
      "           1       0.58      0.14      0.23       283\n",
      "\n",
      "    accuracy                           0.71       927\n",
      "   macro avg       0.65      0.55      0.53       927\n",
      "weighted avg       0.67      0.71      0.64       927\n",
      "\n",
      "AUC:  0.5491462370783311\n",
      "Accuracy Score:  0.7065803667745415\n"
     ]
    }
   ],
   "source": [
    "pred_xgb_pipeline = grid_xgb.predict(x_test) \n",
    "print(classification_report(y_test, pred_xgb_pipeline))\n",
    "print(\"AUC: \",roc_auc_score(y_test, pred_xgb_pipeline))\n",
    "print(\"Accuracy Score: \",accuracy_score(y_test, pred_xgb_pipeline))"
   ]
  },
  {
   "cell_type": "markdown",
   "metadata": {},
   "source": [
    "We get accuracy of 0.71, recall of 0.95 and AUC od 0.54."
   ]
  },
  {
   "cell_type": "markdown",
   "metadata": {},
   "source": [
    "## Extra Tree Classifier"
   ]
  },
  {
   "cell_type": "markdown",
   "metadata": {},
   "source": [
    "**Extremely Randomized Trees, or Extra Trees for short, is an ensemble machine learning algorithm.\n",
    "Specifically, it is an ensemble of decision trees and is related to other ensembles of decision trees algorithms such as bootstrap aggregation (bagging) and random forest.\n",
    "The Extra Trees algorithm works by creating a large number of unpruned decision trees from the training dataset. Predictions are made by averaging the prediction of the decision trees in the case of regression or using majority voting in the case of classification.**"
   ]
  },
  {
   "cell_type": "code",
   "execution_count": 37,
   "metadata": {},
   "outputs": [],
   "source": [
    "# Initialising Extra Tree Classifier \n",
    "et = ExtraTreesClassifier()"
   ]
  },
  {
   "cell_type": "markdown",
   "metadata": {},
   "source": [
    "### Optimising Extra Tree By Tuning Hyperparameters"
   ]
  },
  {
   "cell_type": "markdown",
   "metadata": {},
   "source": [
    "**n_estimator:The number of trees in the forest.<br>\n",
    "max_features: The number of features to consider when looking for the best split.<br>\n",
    "max_depth: The maximum depth of the tree. If None, then nodes are expanded until all leaves are pure or until all leaves contain less than min_samples_split samples.<br>\n",
    "min_samples_leaf: The minimum number of samples required to be at a leaf node. A split point at any depth will only be considered if it leaves at least min_samples_leaf training samples in each of the left and right branches.<br> \n",
    "bootstrapbool: Whether bootstrap samples are used when building trees. If False, the whole dataset is used to build each tree.**"
   ]
  },
  {
   "cell_type": "code",
   "execution_count": 38,
   "metadata": {},
   "outputs": [],
   "source": [
    "param_grid = {'n_estimators': [100, 200, 400],\n",
    "               'max_features': ['sqrt', 'auto'],\n",
    "               'max_depth': [10, 20, 30],\n",
    "               'min_samples_split': [3, 5, 10],\n",
    "               'bootstrap': [True, False]}\n",
    "\n",
    "grid_et = GridSearchCV(et, param_grid, cv=3, verbose=0, scoring='accuracy')"
   ]
  },
  {
   "cell_type": "code",
   "execution_count": 39,
   "metadata": {},
   "outputs": [
    {
     "data": {
      "text/plain": [
       "GridSearchCV(cv=3, estimator=ExtraTreesClassifier(),\n",
       "             param_grid={'bootstrap': [True, False], 'max_depth': [10, 20, 30],\n",
       "                         'max_features': ['sqrt', 'auto'],\n",
       "                         'min_samples_split': [3, 5, 10],\n",
       "                         'n_estimators': [100, 200, 400]},\n",
       "             scoring='accuracy')"
      ]
     },
     "execution_count": 39,
     "metadata": {},
     "output_type": "execute_result"
    }
   ],
   "source": [
    "grid_et.fit(x_train, y_train)"
   ]
  },
  {
   "cell_type": "markdown",
   "metadata": {},
   "source": [
    "### Model Evaluation using Training Data"
   ]
  },
  {
   "cell_type": "code",
   "execution_count": 40,
   "metadata": {},
   "outputs": [
    {
     "name": "stdout",
     "output_type": "stream",
     "text": [
      "              precision    recall  f1-score   support\n",
      "\n",
      "           0       0.71      0.95      0.82       644\n",
      "           1       0.54      0.13      0.22       283\n",
      "\n",
      "    accuracy                           0.70       927\n",
      "   macro avg       0.63      0.54      0.52       927\n",
      "weighted avg       0.66      0.70      0.63       927\n",
      "\n",
      "AUC:  0.5422930886903847\n",
      "Accuracy Score:  0.7011866235167206\n"
     ]
    }
   ],
   "source": [
    "pred_et_pipeline = grid_et.predict(x_test) \n",
    "print(classification_report(y_test, pred_et_pipeline))\n",
    "print(\"AUC: \",roc_auc_score(y_test, pred_et_pipeline))\n",
    "print(\"Accuracy Score: \",accuracy_score(y_test, pred_et_pipeline))"
   ]
  },
  {
   "cell_type": "markdown",
   "metadata": {},
   "source": [
    "We get an accuracy of 0.70, recall of 0.95 and AUC of 0.54."
   ]
  },
  {
   "cell_type": "markdown",
   "metadata": {},
   "source": [
    "## Naïve Bayes Classification"
   ]
  },
  {
   "cell_type": "markdown",
   "metadata": {},
   "source": [
    "**In statistics, Naive Bayes classifiers are a family of simple \"probabilistic classifiers\" based on applying Bayes' theorem with strong independence assumptions between the features. They are among the simplest Bayesian network models, but coupled with Kernel density estimation, they can achieve higher accuracy levels.<br>\n",
    "MultinomialNB implements the naive Bayes algorithm for multinomially distributed data, and is one of the two classic naive Bayes variants used in text classification (where the data are typically represented as word vector counts, although tf-idf vectors are also known to work well in practice).**"
   ]
  },
  {
   "cell_type": "code",
   "execution_count": 41,
   "metadata": {},
   "outputs": [],
   "source": [
    "from sklearn.naive_bayes import GaussianNB, BernoulliNB, MultinomialNB\n",
    "mnb = MultinomialNB(alpha=1.0)"
   ]
  },
  {
   "cell_type": "markdown",
   "metadata": {},
   "source": [
    "### Optimising Naïve Bayes Classification By Tuning Hyperparameters"
   ]
  },
  {
   "cell_type": "markdown",
   "metadata": {},
   "source": [
    "**alpha: Additive (Laplace/Lidstone) smoothing parameter (0 for no smoothing).**"
   ]
  },
  {
   "cell_type": "code",
   "execution_count": 42,
   "metadata": {},
   "outputs": [],
   "source": [
    "param_grid = {\n",
    "    'alpha' : [0.5,1.0,2]\n",
    "}\n",
    "grid_mnb = GridSearchCV(mnb, param_grid, cv=3, verbose=0, scoring='accuracy')"
   ]
  },
  {
   "cell_type": "code",
   "execution_count": 43,
   "metadata": {},
   "outputs": [
    {
     "data": {
      "text/plain": [
       "GridSearchCV(cv=3, estimator=MultinomialNB(),\n",
       "             param_grid={'alpha': [0.5, 1.0, 2]}, scoring='accuracy')"
      ]
     },
     "execution_count": 43,
     "metadata": {},
     "output_type": "execute_result"
    }
   ],
   "source": [
    "grid_mnb.fit(x_train, y_train)"
   ]
  },
  {
   "cell_type": "markdown",
   "metadata": {},
   "source": [
    "### Model Evaluation using Training Data"
   ]
  },
  {
   "cell_type": "code",
   "execution_count": 44,
   "metadata": {},
   "outputs": [
    {
     "name": "stdout",
     "output_type": "stream",
     "text": [
      "              precision    recall  f1-score   support\n",
      "\n",
      "           0       0.75      0.70      0.72       644\n",
      "           1       0.40      0.46      0.43       283\n",
      "\n",
      "    accuracy                           0.63       927\n",
      "   macro avg       0.57      0.58      0.58       927\n",
      "weighted avg       0.64      0.63      0.63       927\n",
      "\n",
      "AUC:  0.5796232688804513\n",
      "Accuracy Score:  0.627831715210356\n"
     ]
    }
   ],
   "source": [
    "pred_mnb_pipeline = grid_mnb.predict(x_test) \n",
    "print(classification_report(y_test, pred_mnb_pipeline))\n",
    "print(\"AUC: \",roc_auc_score(y_test, pred_mnb_pipeline))\n",
    "print(\"Accuracy Score: \",accuracy_score(y_test, pred_mnb_pipeline))"
   ]
  },
  {
   "cell_type": "markdown",
   "metadata": {},
   "source": [
    "We get a lower accuracy of 0.63, recall of 0.70 and AUC of 0.57."
   ]
  },
  {
   "cell_type": "markdown",
   "metadata": {},
   "source": [
    "## Deep Neural Network "
   ]
  },
  {
   "cell_type": "markdown",
   "metadata": {},
   "source": [
    "**A Sequential model is appropriate for a plain stack of layers where each layer has exactly one input tensor and one output tensor.**"
   ]
  },
  {
   "cell_type": "markdown",
   "metadata": {},
   "source": [
    "### Scaling data for Neural Network"
   ]
  },
  {
   "cell_type": "code",
   "execution_count": 71,
   "metadata": {},
   "outputs": [],
   "source": [
    "# Scaling\n",
    "scaler = MinMaxScaler()\n",
    "scaler.fit(x_train)\n",
    "X_train_scaled = scaler.transform(x_train)\n",
    "X_test_scaled = scaler.transform(x_test)"
   ]
  },
  {
   "cell_type": "markdown",
   "metadata": {},
   "source": [
    "### Implementing Neural Network "
   ]
  },
  {
   "cell_type": "markdown",
   "metadata": {},
   "source": [
    "**Dropout is regularization technique to avoid overfitting (increase the validation accuracy) thus increasing the generalizing power.**"
   ]
  },
  {
   "cell_type": "code",
   "execution_count": 72,
   "metadata": {},
   "outputs": [],
   "source": [
    "# Modeling\n",
    "dnnClf = Sequential()\n",
    "\n",
    "# First hiden layer\n",
    "dnnClf.add(Dense(units=20,activation='relu'))\n",
    "# Second hiden layer\n",
    "dnnClf.add(Dense(units=10, activation='relu'))\n",
    "# Adding Dropout\n",
    "dnnClf.add(Dropout(0.5))\n",
    "# Output layer\n",
    "dnnClf.add(Dense(units=1, activation='sigmoid'))\n",
    "\n",
    "dnnClf.compile(loss='binary_crossentropy', optimizer='adam', metrics=['accuracy'])\n",
    "\n",
    "from tensorflow.keras.callbacks import EarlyStopping \n",
    "early_stop = EarlyStopping(monitor='val_loss', mode='min', verbose=1, patience=16)"
   ]
  },
  {
   "cell_type": "markdown",
   "metadata": {},
   "source": [
    "### Training Neural Netowork"
   ]
  },
  {
   "cell_type": "code",
   "execution_count": 73,
   "metadata": {
    "scrolled": true
   },
   "outputs": [
    {
     "name": "stdout",
     "output_type": "stream",
     "text": [
      "Epoch 1/1000\n",
      "116/116 [==============================] - 0s 2ms/step - loss: 0.7260 - accuracy: 0.5359 - val_loss: 0.6520 - val_accuracy: 0.6926\n",
      "Epoch 2/1000\n",
      "116/116 [==============================] - 0s 859us/step - loss: 0.6515 - accuracy: 0.6691 - val_loss: 0.6258 - val_accuracy: 0.6947\n",
      "Epoch 3/1000\n",
      "116/116 [==============================] - 0s 854us/step - loss: 0.6437 - accuracy: 0.6739 - val_loss: 0.6197 - val_accuracy: 0.6947\n",
      "Epoch 4/1000\n",
      "116/116 [==============================] - 0s 870us/step - loss: 0.6334 - accuracy: 0.6742 - val_loss: 0.6148 - val_accuracy: 0.6947\n",
      "Epoch 5/1000\n",
      "116/116 [==============================] - 0s 834us/step - loss: 0.6357 - accuracy: 0.6739 - val_loss: 0.6149 - val_accuracy: 0.6947\n",
      "Epoch 6/1000\n",
      "116/116 [==============================] - 0s 852us/step - loss: 0.6296 - accuracy: 0.6745 - val_loss: 0.6091 - val_accuracy: 0.6936\n",
      "Epoch 7/1000\n",
      "116/116 [==============================] - 0s 862us/step - loss: 0.6274 - accuracy: 0.6777 - val_loss: 0.6057 - val_accuracy: 0.6958\n",
      "Epoch 8/1000\n",
      "116/116 [==============================] - 0s 812us/step - loss: 0.6269 - accuracy: 0.6799 - val_loss: 0.6023 - val_accuracy: 0.7012\n",
      "Epoch 9/1000\n",
      "116/116 [==============================] - 0s 833us/step - loss: 0.6230 - accuracy: 0.6783 - val_loss: 0.5995 - val_accuracy: 0.6990\n",
      "Epoch 10/1000\n",
      "116/116 [==============================] - 0s 820us/step - loss: 0.6181 - accuracy: 0.6793 - val_loss: 0.5951 - val_accuracy: 0.7023\n",
      "Epoch 11/1000\n",
      "116/116 [==============================] - 0s 835us/step - loss: 0.6122 - accuracy: 0.6810 - val_loss: 0.5944 - val_accuracy: 0.7033\n",
      "Epoch 12/1000\n",
      "116/116 [==============================] - 0s 845us/step - loss: 0.6139 - accuracy: 0.6810 - val_loss: 0.5915 - val_accuracy: 0.7023\n",
      "Epoch 13/1000\n",
      "116/116 [==============================] - 0s 822us/step - loss: 0.6134 - accuracy: 0.6826 - val_loss: 0.5895 - val_accuracy: 0.6980\n",
      "Epoch 14/1000\n",
      "116/116 [==============================] - 0s 817us/step - loss: 0.6083 - accuracy: 0.6799 - val_loss: 0.5885 - val_accuracy: 0.7033\n",
      "Epoch 15/1000\n",
      "116/116 [==============================] - 0s 834us/step - loss: 0.6101 - accuracy: 0.6777 - val_loss: 0.5876 - val_accuracy: 0.7001\n",
      "Epoch 16/1000\n",
      "116/116 [==============================] - 0s 879us/step - loss: 0.6069 - accuracy: 0.6850 - val_loss: 0.5902 - val_accuracy: 0.6990\n",
      "Epoch 17/1000\n",
      "116/116 [==============================] - 0s 873us/step - loss: 0.6033 - accuracy: 0.6885 - val_loss: 0.5892 - val_accuracy: 0.6980\n",
      "Epoch 18/1000\n",
      "116/116 [==============================] - 0s 862us/step - loss: 0.6044 - accuracy: 0.6858 - val_loss: 0.5853 - val_accuracy: 0.7044\n",
      "Epoch 19/1000\n",
      "116/116 [==============================] - 0s 894us/step - loss: 0.6024 - accuracy: 0.6861 - val_loss: 0.5867 - val_accuracy: 0.7033\n",
      "Epoch 20/1000\n",
      "116/116 [==============================] - 0s 871us/step - loss: 0.5999 - accuracy: 0.6820 - val_loss: 0.5864 - val_accuracy: 0.7033\n",
      "Epoch 21/1000\n",
      "116/116 [==============================] - 0s 916us/step - loss: 0.6010 - accuracy: 0.6855 - val_loss: 0.5853 - val_accuracy: 0.7044\n",
      "Epoch 22/1000\n",
      "116/116 [==============================] - 0s 807us/step - loss: 0.6023 - accuracy: 0.6845 - val_loss: 0.5862 - val_accuracy: 0.7023\n",
      "Epoch 23/1000\n",
      "116/116 [==============================] - 0s 813us/step - loss: 0.5998 - accuracy: 0.6899 - val_loss: 0.5824 - val_accuracy: 0.7044\n",
      "Epoch 24/1000\n",
      "116/116 [==============================] - 0s 840us/step - loss: 0.5976 - accuracy: 0.6891 - val_loss: 0.5813 - val_accuracy: 0.7066\n",
      "Epoch 25/1000\n",
      "116/116 [==============================] - 0s 860us/step - loss: 0.5973 - accuracy: 0.6872 - val_loss: 0.5807 - val_accuracy: 0.7098\n",
      "Epoch 26/1000\n",
      "116/116 [==============================] - 0s 837us/step - loss: 0.5942 - accuracy: 0.6888 - val_loss: 0.5852 - val_accuracy: 0.6969\n",
      "Epoch 27/1000\n",
      "116/116 [==============================] - 0s 823us/step - loss: 0.5989 - accuracy: 0.6874 - val_loss: 0.5802 - val_accuracy: 0.7131\n",
      "Epoch 28/1000\n",
      "116/116 [==============================] - 0s 825us/step - loss: 0.5956 - accuracy: 0.6912 - val_loss: 0.5803 - val_accuracy: 0.7098\n",
      "Epoch 29/1000\n",
      "116/116 [==============================] - 0s 849us/step - loss: 0.5943 - accuracy: 0.6885 - val_loss: 0.5808 - val_accuracy: 0.7055\n",
      "Epoch 30/1000\n",
      "116/116 [==============================] - 0s 807us/step - loss: 0.5957 - accuracy: 0.6891 - val_loss: 0.5800 - val_accuracy: 0.7109\n",
      "Epoch 31/1000\n",
      "116/116 [==============================] - 0s 811us/step - loss: 0.5943 - accuracy: 0.6909 - val_loss: 0.5795 - val_accuracy: 0.7055\n",
      "Epoch 32/1000\n",
      "116/116 [==============================] - 0s 828us/step - loss: 0.5949 - accuracy: 0.6842 - val_loss: 0.5786 - val_accuracy: 0.7131\n",
      "Epoch 33/1000\n",
      "116/116 [==============================] - 0s 821us/step - loss: 0.5922 - accuracy: 0.6928 - val_loss: 0.5795 - val_accuracy: 0.7012\n",
      "Epoch 34/1000\n",
      "116/116 [==============================] - 0s 816us/step - loss: 0.5916 - accuracy: 0.6950 - val_loss: 0.5786 - val_accuracy: 0.7087\n",
      "Epoch 35/1000\n",
      "116/116 [==============================] - 0s 818us/step - loss: 0.5915 - accuracy: 0.6874 - val_loss: 0.5842 - val_accuracy: 0.6936\n",
      "Epoch 36/1000\n",
      "116/116 [==============================] - 0s 816us/step - loss: 0.5957 - accuracy: 0.6866 - val_loss: 0.5799 - val_accuracy: 0.7055\n",
      "Epoch 37/1000\n",
      "116/116 [==============================] - 0s 815us/step - loss: 0.5967 - accuracy: 0.6874 - val_loss: 0.5801 - val_accuracy: 0.7077\n",
      "Epoch 38/1000\n",
      "116/116 [==============================] - 0s 879us/step - loss: 0.5930 - accuracy: 0.6896 - val_loss: 0.5815 - val_accuracy: 0.6980\n",
      "Epoch 39/1000\n",
      "116/116 [==============================] - 0s 914us/step - loss: 0.5913 - accuracy: 0.6931 - val_loss: 0.5777 - val_accuracy: 0.7077\n",
      "Epoch 40/1000\n",
      "116/116 [==============================] - 0s 860us/step - loss: 0.5912 - accuracy: 0.6912 - val_loss: 0.5783 - val_accuracy: 0.7109\n",
      "Epoch 41/1000\n",
      "116/116 [==============================] - 0s 861us/step - loss: 0.5862 - accuracy: 0.6893 - val_loss: 0.5771 - val_accuracy: 0.7109\n",
      "Epoch 42/1000\n",
      "116/116 [==============================] - 0s 820us/step - loss: 0.5927 - accuracy: 0.6928 - val_loss: 0.5792 - val_accuracy: 0.7087\n",
      "Epoch 43/1000\n",
      "116/116 [==============================] - 0s 854us/step - loss: 0.5940 - accuracy: 0.6845 - val_loss: 0.5773 - val_accuracy: 0.7120\n",
      "Epoch 44/1000\n",
      "116/116 [==============================] - 0s 887us/step - loss: 0.5918 - accuracy: 0.6926 - val_loss: 0.5778 - val_accuracy: 0.7023\n",
      "Epoch 45/1000\n",
      "116/116 [==============================] - 0s 876us/step - loss: 0.5900 - accuracy: 0.6917 - val_loss: 0.5753 - val_accuracy: 0.7098\n",
      "Epoch 46/1000\n",
      "116/116 [==============================] - 0s 883us/step - loss: 0.5863 - accuracy: 0.7004 - val_loss: 0.5744 - val_accuracy: 0.7131\n",
      "Epoch 47/1000\n",
      "116/116 [==============================] - 0s 839us/step - loss: 0.5863 - accuracy: 0.6944 - val_loss: 0.5758 - val_accuracy: 0.7044\n",
      "Epoch 48/1000\n",
      "116/116 [==============================] - 0s 856us/step - loss: 0.5879 - accuracy: 0.6971 - val_loss: 0.5753 - val_accuracy: 0.7109\n",
      "Epoch 49/1000\n",
      "116/116 [==============================] - 0s 906us/step - loss: 0.5920 - accuracy: 0.6909 - val_loss: 0.5761 - val_accuracy: 0.7120\n",
      "Epoch 50/1000\n",
      "116/116 [==============================] - 0s 815us/step - loss: 0.5881 - accuracy: 0.6955 - val_loss: 0.5744 - val_accuracy: 0.7131\n",
      "Epoch 51/1000\n",
      "116/116 [==============================] - 0s 862us/step - loss: 0.5857 - accuracy: 0.6950 - val_loss: 0.5774 - val_accuracy: 0.7001\n",
      "Epoch 52/1000\n",
      "116/116 [==============================] - 0s 862us/step - loss: 0.5848 - accuracy: 0.6969 - val_loss: 0.5765 - val_accuracy: 0.7066\n",
      "Epoch 53/1000\n",
      "116/116 [==============================] - 0s 863us/step - loss: 0.5863 - accuracy: 0.6961 - val_loss: 0.5754 - val_accuracy: 0.7012\n",
      "Epoch 54/1000\n",
      "116/116 [==============================] - 0s 838us/step - loss: 0.5853 - accuracy: 0.6950 - val_loss: 0.5720 - val_accuracy: 0.7109\n",
      "Epoch 55/1000\n",
      "116/116 [==============================] - 0s 863us/step - loss: 0.5853 - accuracy: 0.6990 - val_loss: 0.5723 - val_accuracy: 0.7141\n",
      "Epoch 56/1000\n",
      "116/116 [==============================] - 0s 863us/step - loss: 0.5842 - accuracy: 0.7017 - val_loss: 0.5734 - val_accuracy: 0.7109\n"
     ]
    },
    {
     "name": "stdout",
     "output_type": "stream",
     "text": [
      "Epoch 57/1000\n",
      "116/116 [==============================] - 0s 901us/step - loss: 0.5819 - accuracy: 0.7033 - val_loss: 0.5715 - val_accuracy: 0.7163\n",
      "Epoch 58/1000\n",
      "116/116 [==============================] - 0s 859us/step - loss: 0.5826 - accuracy: 0.6953 - val_loss: 0.5727 - val_accuracy: 0.7098\n",
      "Epoch 59/1000\n",
      "116/116 [==============================] - 0s 886us/step - loss: 0.5790 - accuracy: 0.7017 - val_loss: 0.5721 - val_accuracy: 0.7131\n",
      "Epoch 60/1000\n",
      "116/116 [==============================] - 0s 901us/step - loss: 0.5786 - accuracy: 0.6998 - val_loss: 0.5731 - val_accuracy: 0.7109\n",
      "Epoch 61/1000\n",
      "116/116 [==============================] - 0s 854us/step - loss: 0.5840 - accuracy: 0.6971 - val_loss: 0.5740 - val_accuracy: 0.7120\n",
      "Epoch 62/1000\n",
      "116/116 [==============================] - 0s 867us/step - loss: 0.5767 - accuracy: 0.7044 - val_loss: 0.5714 - val_accuracy: 0.7098\n",
      "Epoch 63/1000\n",
      "116/116 [==============================] - 0s 868us/step - loss: 0.5792 - accuracy: 0.6993 - val_loss: 0.5720 - val_accuracy: 0.7120\n",
      "Epoch 64/1000\n",
      "116/116 [==============================] - 0s 886us/step - loss: 0.5790 - accuracy: 0.6980 - val_loss: 0.5702 - val_accuracy: 0.7120\n",
      "Epoch 65/1000\n",
      "116/116 [==============================] - 0s 838us/step - loss: 0.5800 - accuracy: 0.7009 - val_loss: 0.5700 - val_accuracy: 0.7044\n",
      "Epoch 66/1000\n",
      "116/116 [==============================] - 0s 860us/step - loss: 0.5800 - accuracy: 0.6936 - val_loss: 0.5721 - val_accuracy: 0.7044\n",
      "Epoch 67/1000\n",
      "116/116 [==============================] - 0s 898us/step - loss: 0.5787 - accuracy: 0.6993 - val_loss: 0.5725 - val_accuracy: 0.7001\n",
      "Epoch 68/1000\n",
      "116/116 [==============================] - 0s 840us/step - loss: 0.5756 - accuracy: 0.7050 - val_loss: 0.5708 - val_accuracy: 0.7109\n",
      "Epoch 69/1000\n",
      "116/116 [==============================] - 0s 829us/step - loss: 0.5753 - accuracy: 0.6993 - val_loss: 0.5729 - val_accuracy: 0.7098\n",
      "Epoch 70/1000\n",
      "116/116 [==============================] - 0s 856us/step - loss: 0.5715 - accuracy: 0.7069 - val_loss: 0.5735 - val_accuracy: 0.7087\n",
      "Epoch 71/1000\n",
      "116/116 [==============================] - 0s 824us/step - loss: 0.5765 - accuracy: 0.6993 - val_loss: 0.5719 - val_accuracy: 0.7066\n",
      "Epoch 72/1000\n",
      "116/116 [==============================] - 0s 841us/step - loss: 0.5730 - accuracy: 0.7006 - val_loss: 0.5715 - val_accuracy: 0.7131\n",
      "Epoch 73/1000\n",
      "116/116 [==============================] - 0s 859us/step - loss: 0.5773 - accuracy: 0.7006 - val_loss: 0.5717 - val_accuracy: 0.7087\n",
      "Epoch 74/1000\n",
      "116/116 [==============================] - 0s 945us/step - loss: 0.5718 - accuracy: 0.7066 - val_loss: 0.5750 - val_accuracy: 0.7055\n",
      "Epoch 75/1000\n",
      "116/116 [==============================] - 0s 840us/step - loss: 0.5723 - accuracy: 0.7033 - val_loss: 0.5710 - val_accuracy: 0.7109\n",
      "Epoch 76/1000\n",
      "116/116 [==============================] - 0s 851us/step - loss: 0.5720 - accuracy: 0.7015 - val_loss: 0.5696 - val_accuracy: 0.7120\n",
      "Epoch 77/1000\n",
      "116/116 [==============================] - 0s 876us/step - loss: 0.5778 - accuracy: 0.6990 - val_loss: 0.5719 - val_accuracy: 0.7098\n",
      "Epoch 78/1000\n",
      "116/116 [==============================] - 0s 839us/step - loss: 0.5707 - accuracy: 0.7006 - val_loss: 0.5707 - val_accuracy: 0.7055\n",
      "Epoch 79/1000\n",
      "116/116 [==============================] - 0s 885us/step - loss: 0.5689 - accuracy: 0.7082 - val_loss: 0.5689 - val_accuracy: 0.7131\n",
      "Epoch 80/1000\n",
      "116/116 [==============================] - 0s 872us/step - loss: 0.5698 - accuracy: 0.7055 - val_loss: 0.5680 - val_accuracy: 0.7131\n",
      "Epoch 81/1000\n",
      "116/116 [==============================] - 0s 843us/step - loss: 0.5745 - accuracy: 0.7023 - val_loss: 0.5686 - val_accuracy: 0.7163\n",
      "Epoch 82/1000\n",
      "116/116 [==============================] - 0s 863us/step - loss: 0.5759 - accuracy: 0.7017 - val_loss: 0.5750 - val_accuracy: 0.7098\n",
      "Epoch 83/1000\n",
      "116/116 [==============================] - 0s 865us/step - loss: 0.5700 - accuracy: 0.7066 - val_loss: 0.5694 - val_accuracy: 0.7098\n",
      "Epoch 84/1000\n",
      "116/116 [==============================] - 0s 848us/step - loss: 0.5709 - accuracy: 0.7095 - val_loss: 0.5756 - val_accuracy: 0.7066\n",
      "Epoch 85/1000\n",
      "116/116 [==============================] - 0s 824us/step - loss: 0.5667 - accuracy: 0.7093 - val_loss: 0.5751 - val_accuracy: 0.7098\n",
      "Epoch 86/1000\n",
      "116/116 [==============================] - 0s 823us/step - loss: 0.5722 - accuracy: 0.7033 - val_loss: 0.5713 - val_accuracy: 0.7120\n",
      "Epoch 87/1000\n",
      "116/116 [==============================] - 0s 836us/step - loss: 0.5651 - accuracy: 0.7106 - val_loss: 0.5703 - val_accuracy: 0.7152\n",
      "Epoch 88/1000\n",
      "116/116 [==============================] - 0s 973us/step - loss: 0.5701 - accuracy: 0.7044 - val_loss: 0.5705 - val_accuracy: 0.7141\n",
      "Epoch 89/1000\n",
      "116/116 [==============================] - 0s 845us/step - loss: 0.5640 - accuracy: 0.7087 - val_loss: 0.5693 - val_accuracy: 0.7131\n",
      "Epoch 90/1000\n",
      "116/116 [==============================] - 0s 915us/step - loss: 0.5662 - accuracy: 0.7050 - val_loss: 0.5700 - val_accuracy: 0.7131\n",
      "Epoch 91/1000\n",
      "116/116 [==============================] - 0s 810us/step - loss: 0.5655 - accuracy: 0.7155 - val_loss: 0.5707 - val_accuracy: 0.7098\n",
      "Epoch 92/1000\n",
      "116/116 [==============================] - 0s 812us/step - loss: 0.5658 - accuracy: 0.7109 - val_loss: 0.5735 - val_accuracy: 0.7141\n",
      "Epoch 93/1000\n",
      "116/116 [==============================] - 0s 820us/step - loss: 0.5672 - accuracy: 0.7106 - val_loss: 0.5732 - val_accuracy: 0.7098\n",
      "Epoch 94/1000\n",
      "116/116 [==============================] - 0s 806us/step - loss: 0.5713 - accuracy: 0.7079 - val_loss: 0.5712 - val_accuracy: 0.7120\n",
      "Epoch 95/1000\n",
      "116/116 [==============================] - 0s 836us/step - loss: 0.5642 - accuracy: 0.7090 - val_loss: 0.5744 - val_accuracy: 0.7120\n",
      "Epoch 96/1000\n",
      "116/116 [==============================] - 0s 834us/step - loss: 0.5701 - accuracy: 0.7093 - val_loss: 0.5721 - val_accuracy: 0.7087\n",
      "Epoch 00096: early stopping\n"
     ]
    }
   ],
   "source": [
    "dnnClf.fit(x=X_train_scaled, \n",
    "          y=y_train, \n",
    "          epochs=1000,\n",
    "          validation_data=(X_test_scaled, y_test), verbose=1,\n",
    "          callbacks=[early_stop]\n",
    "          )\n",
    "model_loss = pd.DataFrame(dnnClf.history.history)"
   ]
  },
  {
   "cell_type": "code",
   "execution_count": 74,
   "metadata": {},
   "outputs": [
    {
     "data": {
      "image/png": "[encoded data removed]",
      "text/plain": [
       "<Figure size 432x288 with 1 Axes>"
      ]
     },
     "metadata": {},
     "output_type": "display_data"
    }
   ],
   "source": [
    "model_loss.plot()\n",
    "plt.show()"
   ]
  },
  {
   "cell_type": "markdown",
   "metadata": {},
   "source": [
    "### Model Evaluation using Training Data"
   ]
  },
  {
   "cell_type": "code",
   "execution_count": 75,
   "metadata": {},
   "outputs": [
    {
     "name": "stdout",
     "output_type": "stream",
     "text": [
      "              precision    recall  f1-score   support\n",
      "\n",
      "           0       0.72      0.94      0.82       644\n",
      "           1       0.58      0.17      0.27       283\n",
      "\n",
      "    accuracy                           0.71       927\n",
      "   macro avg       0.65      0.56      0.54       927\n",
      "weighted avg       0.68      0.71      0.65       927\n",
      "\n",
      "AUC:  0.5586221276035379\n",
      "Accuracy Score:  0.7087378640776699\n"
     ]
    }
   ],
   "source": [
    "dnnPreds = dnnClf.predict(scaler.transform(x_test))\n",
    "dnnPreds = [round(i[0]) for i in dnnPreds]\n",
    "print(classification_report(y_test, dnnPreds))\n",
    "print(\"AUC: \",roc_auc_score(y_test, dnnPreds))\n",
    "print(\"Accuracy Score: \",accuracy_score(y_test,dnnPreds))"
   ]
  },
  {
   "cell_type": "markdown",
   "metadata": {},
   "source": [
    "We get an accuracy of 0.71, recall of 0.94 and AUC of 0.56."
   ]
  },
  {
   "cell_type": "markdown",
   "metadata": {},
   "source": [
    "## Logistic Regression"
   ]
  },
  {
   "cell_type": "markdown",
   "metadata": {},
   "source": [
    "**Logistic regression is a statistical model that in its basic form uses a logistic function to model a binary dependent variable, although many more complex extensions exist. In regression analysis, logistic regression (or logit regression) is estimating the parameters of a logistic model (a form of binary regression).**"
   ]
  },
  {
   "cell_type": "code",
   "execution_count": 51,
   "metadata": {},
   "outputs": [],
   "source": [
    "# Initialising Logistic Regression Classifier\n",
    "from sklearn.linear_model import LogisticRegression\n",
    "lr = LogisticRegression()"
   ]
  },
  {
   "cell_type": "markdown",
   "metadata": {},
   "source": [
    "### Optimising Logistic Regression by Tuning Hyperparameters"
   ]
  },
  {
   "cell_type": "markdown",
   "metadata": {},
   "source": [
    "**Binary Logistic Regression.<br>\n",
    "C: The C parameter controls the penality strength, which can also be effective.<br>\n",
    "max_iter: Number of iteration.**\n"
   ]
  },
  {
   "cell_type": "code",
   "execution_count": 52,
   "metadata": {},
   "outputs": [],
   "source": [
    "param_grid = {\n",
    "    'max_iter': [100,200,400],\n",
    "    'C':[0.01,0.001,0.1,1]\n",
    "}\n",
    "grid_lr = GridSearchCV(lr, param_grid, cv=3, verbose=0, scoring='accuracy')"
   ]
  },
  {
   "cell_type": "code",
   "execution_count": 54,
   "metadata": {
    "scrolled": true
   },
   "outputs": [
    {
     "name": "stderr",
     "output_type": "stream",
     "text": [
      "/Users/sahebsingh/anaconda3/lib/python3.7/site-packages/sklearn/linear_model/_logistic.py:764: ConvergenceWarning: lbfgs failed to converge (status=1):\n",
      "STOP: TOTAL NO. of ITERATIONS REACHED LIMIT.\n",
      "\n",
      "Increase the number of iterations (max_iter) or scale the data as shown in:\n",
      "    https://scikit-learn.org/stable/modules/preprocessing.html\n",
      "Please also refer to the documentation for alternative solver options:\n",
      "    https://scikit-learn.org/stable/modules/linear_model.html#logistic-regression\n",
      "  extra_warning_msg=_LOGISTIC_SOLVER_CONVERGENCE_MSG)\n",
      "/Users/sahebsingh/anaconda3/lib/python3.7/site-packages/sklearn/linear_model/_logistic.py:764: ConvergenceWarning: lbfgs failed to converge (status=1):\n",
      "STOP: TOTAL NO. of ITERATIONS REACHED LIMIT.\n",
      "\n",
      "Increase the number of iterations (max_iter) or scale the data as shown in:\n",
      "    https://scikit-learn.org/stable/modules/preprocessing.html\n",
      "Please also refer to the documentation for alternative solver options:\n",
      "    https://scikit-learn.org/stable/modules/linear_model.html#logistic-regression\n",
      "  extra_warning_msg=_LOGISTIC_SOLVER_CONVERGENCE_MSG)\n",
      "/Users/sahebsingh/anaconda3/lib/python3.7/site-packages/sklearn/linear_model/_logistic.py:764: ConvergenceWarning: lbfgs failed to converge (status=1):\n",
      "STOP: TOTAL NO. of ITERATIONS REACHED LIMIT.\n",
      "\n",
      "Increase the number of iterations (max_iter) or scale the data as shown in:\n",
      "    https://scikit-learn.org/stable/modules/preprocessing.html\n",
      "Please also refer to the documentation for alternative solver options:\n",
      "    https://scikit-learn.org/stable/modules/linear_model.html#logistic-regression\n",
      "  extra_warning_msg=_LOGISTIC_SOLVER_CONVERGENCE_MSG)\n",
      "/Users/sahebsingh/anaconda3/lib/python3.7/site-packages/sklearn/linear_model/_logistic.py:764: ConvergenceWarning: lbfgs failed to converge (status=1):\n",
      "STOP: TOTAL NO. of ITERATIONS REACHED LIMIT.\n",
      "\n",
      "Increase the number of iterations (max_iter) or scale the data as shown in:\n",
      "    https://scikit-learn.org/stable/modules/preprocessing.html\n",
      "Please also refer to the documentation for alternative solver options:\n",
      "    https://scikit-learn.org/stable/modules/linear_model.html#logistic-regression\n",
      "  extra_warning_msg=_LOGISTIC_SOLVER_CONVERGENCE_MSG)\n",
      "/Users/sahebsingh/anaconda3/lib/python3.7/site-packages/sklearn/linear_model/_logistic.py:764: ConvergenceWarning: lbfgs failed to converge (status=1):\n",
      "STOP: TOTAL NO. of ITERATIONS REACHED LIMIT.\n",
      "\n",
      "Increase the number of iterations (max_iter) or scale the data as shown in:\n",
      "    https://scikit-learn.org/stable/modules/preprocessing.html\n",
      "Please also refer to the documentation for alternative solver options:\n",
      "    https://scikit-learn.org/stable/modules/linear_model.html#logistic-regression\n",
      "  extra_warning_msg=_LOGISTIC_SOLVER_CONVERGENCE_MSG)\n",
      "/Users/sahebsingh/anaconda3/lib/python3.7/site-packages/sklearn/linear_model/_logistic.py:764: ConvergenceWarning: lbfgs failed to converge (status=1):\n",
      "STOP: TOTAL NO. of ITERATIONS REACHED LIMIT.\n",
      "\n",
      "Increase the number of iterations (max_iter) or scale the data as shown in:\n",
      "    https://scikit-learn.org/stable/modules/preprocessing.html\n",
      "Please also refer to the documentation for alternative solver options:\n",
      "    https://scikit-learn.org/stable/modules/linear_model.html#logistic-regression\n",
      "  extra_warning_msg=_LOGISTIC_SOLVER_CONVERGENCE_MSG)\n",
      "/Users/sahebsingh/anaconda3/lib/python3.7/site-packages/sklearn/linear_model/_logistic.py:764: ConvergenceWarning: lbfgs failed to converge (status=1):\n",
      "STOP: TOTAL NO. of ITERATIONS REACHED LIMIT.\n",
      "\n",
      "Increase the number of iterations (max_iter) or scale the data as shown in:\n",
      "    https://scikit-learn.org/stable/modules/preprocessing.html\n",
      "Please also refer to the documentation for alternative solver options:\n",
      "    https://scikit-learn.org/stable/modules/linear_model.html#logistic-regression\n",
      "  extra_warning_msg=_LOGISTIC_SOLVER_CONVERGENCE_MSG)\n",
      "/Users/sahebsingh/anaconda3/lib/python3.7/site-packages/sklearn/linear_model/_logistic.py:764: ConvergenceWarning: lbfgs failed to converge (status=1):\n",
      "STOP: TOTAL NO. of ITERATIONS REACHED LIMIT.\n",
      "\n",
      "Increase the number of iterations (max_iter) or scale the data as shown in:\n",
      "    https://scikit-learn.org/stable/modules/preprocessing.html\n",
      "Please also refer to the documentation for alternative solver options:\n",
      "    https://scikit-learn.org/stable/modules/linear_model.html#logistic-regression\n",
      "  extra_warning_msg=_LOGISTIC_SOLVER_CONVERGENCE_MSG)\n",
      "/Users/sahebsingh/anaconda3/lib/python3.7/site-packages/sklearn/linear_model/_logistic.py:764: ConvergenceWarning: lbfgs failed to converge (status=1):\n",
      "STOP: TOTAL NO. of ITERATIONS REACHED LIMIT.\n",
      "\n",
      "Increase the number of iterations (max_iter) or scale the data as shown in:\n",
      "    https://scikit-learn.org/stable/modules/preprocessing.html\n",
      "Please also refer to the documentation for alternative solver options:\n",
      "    https://scikit-learn.org/stable/modules/linear_model.html#logistic-regression\n",
      "  extra_warning_msg=_LOGISTIC_SOLVER_CONVERGENCE_MSG)\n",
      "/Users/sahebsingh/anaconda3/lib/python3.7/site-packages/sklearn/linear_model/_logistic.py:764: ConvergenceWarning: lbfgs failed to converge (status=1):\n",
      "STOP: TOTAL NO. of ITERATIONS REACHED LIMIT.\n",
      "\n",
      "Increase the number of iterations (max_iter) or scale the data as shown in:\n",
      "    https://scikit-learn.org/stable/modules/preprocessing.html\n",
      "Please also refer to the documentation for alternative solver options:\n",
      "    https://scikit-learn.org/stable/modules/linear_model.html#logistic-regression\n",
      "  extra_warning_msg=_LOGISTIC_SOLVER_CONVERGENCE_MSG)\n",
      "/Users/sahebsingh/anaconda3/lib/python3.7/site-packages/sklearn/linear_model/_logistic.py:764: ConvergenceWarning: lbfgs failed to converge (status=1):\n",
      "STOP: TOTAL NO. of ITERATIONS REACHED LIMIT.\n",
      "\n",
      "Increase the number of iterations (max_iter) or scale the data as shown in:\n",
      "    https://scikit-learn.org/stable/modules/preprocessing.html\n",
      "Please also refer to the documentation for alternative solver options:\n",
      "    https://scikit-learn.org/stable/modules/linear_model.html#logistic-regression\n",
      "  extra_warning_msg=_LOGISTIC_SOLVER_CONVERGENCE_MSG)\n",
      "/Users/sahebsingh/anaconda3/lib/python3.7/site-packages/sklearn/linear_model/_logistic.py:764: ConvergenceWarning: lbfgs failed to converge (status=1):\n",
      "STOP: TOTAL NO. of ITERATIONS REACHED LIMIT.\n",
      "\n",
      "Increase the number of iterations (max_iter) or scale the data as shown in:\n",
      "    https://scikit-learn.org/stable/modules/preprocessing.html\n",
      "Please also refer to the documentation for alternative solver options:\n",
      "    https://scikit-learn.org/stable/modules/linear_model.html#logistic-regression\n",
      "  extra_warning_msg=_LOGISTIC_SOLVER_CONVERGENCE_MSG)\n",
      "/Users/sahebsingh/anaconda3/lib/python3.7/site-packages/sklearn/linear_model/_logistic.py:764: ConvergenceWarning: lbfgs failed to converge (status=1):\n",
      "STOP: TOTAL NO. of ITERATIONS REACHED LIMIT.\n",
      "\n",
      "Increase the number of iterations (max_iter) or scale the data as shown in:\n",
      "    https://scikit-learn.org/stable/modules/preprocessing.html\n",
      "Please also refer to the documentation for alternative solver options:\n",
      "    https://scikit-learn.org/stable/modules/linear_model.html#logistic-regression\n",
      "  extra_warning_msg=_LOGISTIC_SOLVER_CONVERGENCE_MSG)\n",
      "/Users/sahebsingh/anaconda3/lib/python3.7/site-packages/sklearn/linear_model/_logistic.py:764: ConvergenceWarning: lbfgs failed to converge (status=1):\n",
      "STOP: TOTAL NO. of ITERATIONS REACHED LIMIT.\n",
      "\n",
      "Increase the number of iterations (max_iter) or scale the data as shown in:\n",
      "    https://scikit-learn.org/stable/modules/preprocessing.html\n",
      "Please also refer to the documentation for alternative solver options:\n",
      "    https://scikit-learn.org/stable/modules/linear_model.html#logistic-regression\n",
      "  extra_warning_msg=_LOGISTIC_SOLVER_CONVERGENCE_MSG)\n",
      "/Users/sahebsingh/anaconda3/lib/python3.7/site-packages/sklearn/linear_model/_logistic.py:764: ConvergenceWarning: lbfgs failed to converge (status=1):\n",
      "STOP: TOTAL NO. of ITERATIONS REACHED LIMIT.\n",
      "\n",
      "Increase the number of iterations (max_iter) or scale the data as shown in:\n",
      "    https://scikit-learn.org/stable/modules/preprocessing.html\n",
      "Please also refer to the documentation for alternative solver options:\n",
      "    https://scikit-learn.org/stable/modules/linear_model.html#logistic-regression\n",
      "  extra_warning_msg=_LOGISTIC_SOLVER_CONVERGENCE_MSG)\n",
      "/Users/sahebsingh/anaconda3/lib/python3.7/site-packages/sklearn/linear_model/_logistic.py:764: ConvergenceWarning: lbfgs failed to converge (status=1):\n",
      "STOP: TOTAL NO. of ITERATIONS REACHED LIMIT.\n",
      "\n",
      "Increase the number of iterations (max_iter) or scale the data as shown in:\n",
      "    https://scikit-learn.org/stable/modules/preprocessing.html\n",
      "Please also refer to the documentation for alternative solver options:\n",
      "    https://scikit-learn.org/stable/modules/linear_model.html#logistic-regression\n",
      "  extra_warning_msg=_LOGISTIC_SOLVER_CONVERGENCE_MSG)\n",
      "/Users/sahebsingh/anaconda3/lib/python3.7/site-packages/sklearn/linear_model/_logistic.py:764: ConvergenceWarning: lbfgs failed to converge (status=1):\n",
      "STOP: TOTAL NO. of ITERATIONS REACHED LIMIT.\n",
      "\n",
      "Increase the number of iterations (max_iter) or scale the data as shown in:\n",
      "    https://scikit-learn.org/stable/modules/preprocessing.html\n",
      "Please also refer to the documentation for alternative solver options:\n",
      "    https://scikit-learn.org/stable/modules/linear_model.html#logistic-regression\n",
      "  extra_warning_msg=_LOGISTIC_SOLVER_CONVERGENCE_MSG)\n",
      "/Users/sahebsingh/anaconda3/lib/python3.7/site-packages/sklearn/linear_model/_logistic.py:764: ConvergenceWarning: lbfgs failed to converge (status=1):\n",
      "STOP: TOTAL NO. of ITERATIONS REACHED LIMIT.\n",
      "\n",
      "Increase the number of iterations (max_iter) or scale the data as shown in:\n",
      "    https://scikit-learn.org/stable/modules/preprocessing.html\n",
      "Please also refer to the documentation for alternative solver options:\n",
      "    https://scikit-learn.org/stable/modules/linear_model.html#logistic-regression\n",
      "  extra_warning_msg=_LOGISTIC_SOLVER_CONVERGENCE_MSG)\n",
      "/Users/sahebsingh/anaconda3/lib/python3.7/site-packages/sklearn/linear_model/_logistic.py:764: ConvergenceWarning: lbfgs failed to converge (status=1):\n",
      "STOP: TOTAL NO. of ITERATIONS REACHED LIMIT.\n",
      "\n",
      "Increase the number of iterations (max_iter) or scale the data as shown in:\n",
      "    https://scikit-learn.org/stable/modules/preprocessing.html\n",
      "Please also refer to the documentation for alternative solver options:\n",
      "    https://scikit-learn.org/stable/modules/linear_model.html#logistic-regression\n",
      "  extra_warning_msg=_LOGISTIC_SOLVER_CONVERGENCE_MSG)\n"
     ]
    },
    {
     "name": "stderr",
     "output_type": "stream",
     "text": [
      "/Users/sahebsingh/anaconda3/lib/python3.7/site-packages/sklearn/linear_model/_logistic.py:764: ConvergenceWarning: lbfgs failed to converge (status=1):\n",
      "STOP: TOTAL NO. of ITERATIONS REACHED LIMIT.\n",
      "\n",
      "Increase the number of iterations (max_iter) or scale the data as shown in:\n",
      "    https://scikit-learn.org/stable/modules/preprocessing.html\n",
      "Please also refer to the documentation for alternative solver options:\n",
      "    https://scikit-learn.org/stable/modules/linear_model.html#logistic-regression\n",
      "  extra_warning_msg=_LOGISTIC_SOLVER_CONVERGENCE_MSG)\n",
      "/Users/sahebsingh/anaconda3/lib/python3.7/site-packages/sklearn/linear_model/_logistic.py:764: ConvergenceWarning: lbfgs failed to converge (status=1):\n",
      "STOP: TOTAL NO. of ITERATIONS REACHED LIMIT.\n",
      "\n",
      "Increase the number of iterations (max_iter) or scale the data as shown in:\n",
      "    https://scikit-learn.org/stable/modules/preprocessing.html\n",
      "Please also refer to the documentation for alternative solver options:\n",
      "    https://scikit-learn.org/stable/modules/linear_model.html#logistic-regression\n",
      "  extra_warning_msg=_LOGISTIC_SOLVER_CONVERGENCE_MSG)\n",
      "/Users/sahebsingh/anaconda3/lib/python3.7/site-packages/sklearn/linear_model/_logistic.py:764: ConvergenceWarning: lbfgs failed to converge (status=1):\n",
      "STOP: TOTAL NO. of ITERATIONS REACHED LIMIT.\n",
      "\n",
      "Increase the number of iterations (max_iter) or scale the data as shown in:\n",
      "    https://scikit-learn.org/stable/modules/preprocessing.html\n",
      "Please also refer to the documentation for alternative solver options:\n",
      "    https://scikit-learn.org/stable/modules/linear_model.html#logistic-regression\n",
      "  extra_warning_msg=_LOGISTIC_SOLVER_CONVERGENCE_MSG)\n",
      "/Users/sahebsingh/anaconda3/lib/python3.7/site-packages/sklearn/linear_model/_logistic.py:764: ConvergenceWarning: lbfgs failed to converge (status=1):\n",
      "STOP: TOTAL NO. of ITERATIONS REACHED LIMIT.\n",
      "\n",
      "Increase the number of iterations (max_iter) or scale the data as shown in:\n",
      "    https://scikit-learn.org/stable/modules/preprocessing.html\n",
      "Please also refer to the documentation for alternative solver options:\n",
      "    https://scikit-learn.org/stable/modules/linear_model.html#logistic-regression\n",
      "  extra_warning_msg=_LOGISTIC_SOLVER_CONVERGENCE_MSG)\n",
      "/Users/sahebsingh/anaconda3/lib/python3.7/site-packages/sklearn/linear_model/_logistic.py:764: ConvergenceWarning: lbfgs failed to converge (status=1):\n",
      "STOP: TOTAL NO. of ITERATIONS REACHED LIMIT.\n",
      "\n",
      "Increase the number of iterations (max_iter) or scale the data as shown in:\n",
      "    https://scikit-learn.org/stable/modules/preprocessing.html\n",
      "Please also refer to the documentation for alternative solver options:\n",
      "    https://scikit-learn.org/stable/modules/linear_model.html#logistic-regression\n",
      "  extra_warning_msg=_LOGISTIC_SOLVER_CONVERGENCE_MSG)\n",
      "/Users/sahebsingh/anaconda3/lib/python3.7/site-packages/sklearn/linear_model/_logistic.py:764: ConvergenceWarning: lbfgs failed to converge (status=1):\n",
      "STOP: TOTAL NO. of ITERATIONS REACHED LIMIT.\n",
      "\n",
      "Increase the number of iterations (max_iter) or scale the data as shown in:\n",
      "    https://scikit-learn.org/stable/modules/preprocessing.html\n",
      "Please also refer to the documentation for alternative solver options:\n",
      "    https://scikit-learn.org/stable/modules/linear_model.html#logistic-regression\n",
      "  extra_warning_msg=_LOGISTIC_SOLVER_CONVERGENCE_MSG)\n",
      "/Users/sahebsingh/anaconda3/lib/python3.7/site-packages/sklearn/linear_model/_logistic.py:764: ConvergenceWarning: lbfgs failed to converge (status=1):\n",
      "STOP: TOTAL NO. of ITERATIONS REACHED LIMIT.\n",
      "\n",
      "Increase the number of iterations (max_iter) or scale the data as shown in:\n",
      "    https://scikit-learn.org/stable/modules/preprocessing.html\n",
      "Please also refer to the documentation for alternative solver options:\n",
      "    https://scikit-learn.org/stable/modules/linear_model.html#logistic-regression\n",
      "  extra_warning_msg=_LOGISTIC_SOLVER_CONVERGENCE_MSG)\n",
      "/Users/sahebsingh/anaconda3/lib/python3.7/site-packages/sklearn/linear_model/_logistic.py:764: ConvergenceWarning: lbfgs failed to converge (status=1):\n",
      "STOP: TOTAL NO. of ITERATIONS REACHED LIMIT.\n",
      "\n",
      "Increase the number of iterations (max_iter) or scale the data as shown in:\n",
      "    https://scikit-learn.org/stable/modules/preprocessing.html\n",
      "Please also refer to the documentation for alternative solver options:\n",
      "    https://scikit-learn.org/stable/modules/linear_model.html#logistic-regression\n",
      "  extra_warning_msg=_LOGISTIC_SOLVER_CONVERGENCE_MSG)\n",
      "/Users/sahebsingh/anaconda3/lib/python3.7/site-packages/sklearn/linear_model/_logistic.py:764: ConvergenceWarning: lbfgs failed to converge (status=1):\n",
      "STOP: TOTAL NO. of ITERATIONS REACHED LIMIT.\n",
      "\n",
      "Increase the number of iterations (max_iter) or scale the data as shown in:\n",
      "    https://scikit-learn.org/stable/modules/preprocessing.html\n",
      "Please also refer to the documentation for alternative solver options:\n",
      "    https://scikit-learn.org/stable/modules/linear_model.html#logistic-regression\n",
      "  extra_warning_msg=_LOGISTIC_SOLVER_CONVERGENCE_MSG)\n",
      "/Users/sahebsingh/anaconda3/lib/python3.7/site-packages/sklearn/linear_model/_logistic.py:764: ConvergenceWarning: lbfgs failed to converge (status=1):\n",
      "STOP: TOTAL NO. of ITERATIONS REACHED LIMIT.\n",
      "\n",
      "Increase the number of iterations (max_iter) or scale the data as shown in:\n",
      "    https://scikit-learn.org/stable/modules/preprocessing.html\n",
      "Please also refer to the documentation for alternative solver options:\n",
      "    https://scikit-learn.org/stable/modules/linear_model.html#logistic-regression\n",
      "  extra_warning_msg=_LOGISTIC_SOLVER_CONVERGENCE_MSG)\n",
      "/Users/sahebsingh/anaconda3/lib/python3.7/site-packages/sklearn/linear_model/_logistic.py:764: ConvergenceWarning: lbfgs failed to converge (status=1):\n",
      "STOP: TOTAL NO. of ITERATIONS REACHED LIMIT.\n",
      "\n",
      "Increase the number of iterations (max_iter) or scale the data as shown in:\n",
      "    https://scikit-learn.org/stable/modules/preprocessing.html\n",
      "Please also refer to the documentation for alternative solver options:\n",
      "    https://scikit-learn.org/stable/modules/linear_model.html#logistic-regression\n",
      "  extra_warning_msg=_LOGISTIC_SOLVER_CONVERGENCE_MSG)\n",
      "/Users/sahebsingh/anaconda3/lib/python3.7/site-packages/sklearn/linear_model/_logistic.py:764: ConvergenceWarning: lbfgs failed to converge (status=1):\n",
      "STOP: TOTAL NO. of ITERATIONS REACHED LIMIT.\n",
      "\n",
      "Increase the number of iterations (max_iter) or scale the data as shown in:\n",
      "    https://scikit-learn.org/stable/modules/preprocessing.html\n",
      "Please also refer to the documentation for alternative solver options:\n",
      "    https://scikit-learn.org/stable/modules/linear_model.html#logistic-regression\n",
      "  extra_warning_msg=_LOGISTIC_SOLVER_CONVERGENCE_MSG)\n",
      "/Users/sahebsingh/anaconda3/lib/python3.7/site-packages/sklearn/linear_model/_logistic.py:764: ConvergenceWarning: lbfgs failed to converge (status=1):\n",
      "STOP: TOTAL NO. of ITERATIONS REACHED LIMIT.\n",
      "\n",
      "Increase the number of iterations (max_iter) or scale the data as shown in:\n",
      "    https://scikit-learn.org/stable/modules/preprocessing.html\n",
      "Please also refer to the documentation for alternative solver options:\n",
      "    https://scikit-learn.org/stable/modules/linear_model.html#logistic-regression\n",
      "  extra_warning_msg=_LOGISTIC_SOLVER_CONVERGENCE_MSG)\n",
      "/Users/sahebsingh/anaconda3/lib/python3.7/site-packages/sklearn/linear_model/_logistic.py:764: ConvergenceWarning: lbfgs failed to converge (status=1):\n",
      "STOP: TOTAL NO. of ITERATIONS REACHED LIMIT.\n",
      "\n",
      "Increase the number of iterations (max_iter) or scale the data as shown in:\n",
      "    https://scikit-learn.org/stable/modules/preprocessing.html\n",
      "Please also refer to the documentation for alternative solver options:\n",
      "    https://scikit-learn.org/stable/modules/linear_model.html#logistic-regression\n",
      "  extra_warning_msg=_LOGISTIC_SOLVER_CONVERGENCE_MSG)\n",
      "/Users/sahebsingh/anaconda3/lib/python3.7/site-packages/sklearn/linear_model/_logistic.py:764: ConvergenceWarning: lbfgs failed to converge (status=1):\n",
      "STOP: TOTAL NO. of ITERATIONS REACHED LIMIT.\n",
      "\n",
      "Increase the number of iterations (max_iter) or scale the data as shown in:\n",
      "    https://scikit-learn.org/stable/modules/preprocessing.html\n",
      "Please also refer to the documentation for alternative solver options:\n",
      "    https://scikit-learn.org/stable/modules/linear_model.html#logistic-regression\n",
      "  extra_warning_msg=_LOGISTIC_SOLVER_CONVERGENCE_MSG)\n",
      "/Users/sahebsingh/anaconda3/lib/python3.7/site-packages/sklearn/linear_model/_logistic.py:764: ConvergenceWarning: lbfgs failed to converge (status=1):\n",
      "STOP: TOTAL NO. of ITERATIONS REACHED LIMIT.\n",
      "\n",
      "Increase the number of iterations (max_iter) or scale the data as shown in:\n",
      "    https://scikit-learn.org/stable/modules/preprocessing.html\n",
      "Please also refer to the documentation for alternative solver options:\n",
      "    https://scikit-learn.org/stable/modules/linear_model.html#logistic-regression\n",
      "  extra_warning_msg=_LOGISTIC_SOLVER_CONVERGENCE_MSG)\n"
     ]
    },
    {
     "data": {
      "text/plain": [
       "GridSearchCV(cv=3, estimator=LogisticRegression(),\n",
       "             param_grid={'C': [0.01, 0.001, 0.1, 1],\n",
       "                         'max_iter': [100, 200, 400]},\n",
       "             scoring='accuracy')"
      ]
     },
     "execution_count": 54,
     "metadata": {},
     "output_type": "execute_result"
    }
   ],
   "source": [
    "grid_lr.fit(x_train, y_train)"
   ]
  },
  {
   "cell_type": "markdown",
   "metadata": {},
   "source": [
    "### Model Evaluation using Training Data"
   ]
  },
  {
   "cell_type": "code",
   "execution_count": 55,
   "metadata": {},
   "outputs": [
    {
     "name": "stdout",
     "output_type": "stream",
     "text": [
      "              precision    recall  f1-score   support\n",
      "\n",
      "           0       0.71      0.91      0.80       644\n",
      "           1       0.46      0.17      0.25       283\n",
      "\n",
      "    accuracy                           0.69       927\n",
      "   macro avg       0.59      0.54      0.52       927\n",
      "weighted avg       0.64      0.69      0.63       927\n",
      "\n",
      "AUC:  0.5405509953251542\n",
      "Accuracy Score:  0.6850053937432579\n"
     ]
    }
   ],
   "source": [
    "pred_lr_pipeline = grid_lr.predict(x_test) \n",
    "print(classification_report(y_test, pred_lr_pipeline))\n",
    "print(\"AUC: \",roc_auc_score(y_test, pred_lr_pipeline))\n",
    "print(\"Accuracy Score: \",accuracy_score(y_test, pred_lr_pipeline))"
   ]
  },
  {
   "cell_type": "markdown",
   "metadata": {},
   "source": [
    "We get an accuracy of 0.69, recall of 0.91 and AUC of 0.54."
   ]
  },
  {
   "cell_type": "markdown",
   "metadata": {},
   "source": [
    "## K Means Classification"
   ]
  },
  {
   "cell_type": "markdown",
   "metadata": {},
   "source": [
    "**k-means clustering is a method of vector quantization, originally from signal processing, that aims to partition n observations into k clusters in which each observation belongs to the cluster with the nearest mean, serving as a prototype of the cluster.**"
   ]
  },
  {
   "cell_type": "code",
   "execution_count": 56,
   "metadata": {},
   "outputs": [],
   "source": [
    "# Initialising KMeans classification\n",
    "kmeans = KMeans()"
   ]
  },
  {
   "cell_type": "markdown",
   "metadata": {},
   "source": [
    "### Optimising K-Means \n",
    "**Applying KMeans mode with 2 clusters as our model should perform Binary Classification. Parameters: n_init means the number of time the algorithm will run with different centroids, max_iter means the maximum number of iteration Kmeans will perform.**"
   ]
  },
  {
   "cell_type": "code",
   "execution_count": 57,
   "metadata": {},
   "outputs": [],
   "source": [
    "kmeans = KMeans(n_clusters=2, n_init=25, max_iter=100, random_state=6)"
   ]
  },
  {
   "cell_type": "code",
   "execution_count": 58,
   "metadata": {},
   "outputs": [
    {
     "data": {
      "text/plain": [
       "KMeans(max_iter=100, n_clusters=2, n_init=25, random_state=6)"
      ]
     },
     "execution_count": 58,
     "metadata": {},
     "output_type": "execute_result"
    }
   ],
   "source": [
    "kmeans.fit(x_train)"
   ]
  },
  {
   "cell_type": "markdown",
   "metadata": {},
   "source": [
    "### Model Evaluation using Training Data"
   ]
  },
  {
   "cell_type": "code",
   "execution_count": 59,
   "metadata": {},
   "outputs": [
    {
     "name": "stdout",
     "output_type": "stream",
     "text": [
      "              precision    recall  f1-score   support\n",
      "\n",
      "           0       0.67      0.65      0.66       644\n",
      "           1       0.25      0.26      0.25       283\n",
      "\n",
      "    accuracy                           0.53       927\n",
      "   macro avg       0.46      0.46      0.46       927\n",
      "weighted avg       0.54      0.53      0.54       927\n",
      "\n",
      "AUC:  0.4560526084761759\n",
      "Accuracy Score:  0.5318230852211435\n"
     ]
    }
   ],
   "source": [
    "pred_kmeans = kmeans.predict(x_test)\n",
    "print(classification_report(y_test, pred_kmeans))\n",
    "print(\"AUC: \",roc_auc_score(y_test, pred_kmeans))\n",
    "print(\"Accuracy Score: \",accuracy_score(y_test, pred_kmeans))"
   ]
  },
  {
   "cell_type": "markdown",
   "metadata": {},
   "source": [
    "We get the lowest accuracy while using K Means with accuracy of 0.53 and recall of 0.65 where as we AUC score is 0.45. "
   ]
  },
  {
   "cell_type": "markdown",
   "metadata": {},
   "source": [
    "## Association Rule Mining"
   ]
  },
  {
   "cell_type": "markdown",
   "metadata": {},
   "source": [
    "### Converting Age into categorical data."
   ]
  },
  {
   "cell_type": "code",
   "execution_count": 60,
   "metadata": {},
   "outputs": [],
   "source": [
    "t = df.describe()\n",
    "column_name = t.columns"
   ]
  },
  {
   "cell_type": "code",
   "execution_count": 61,
   "metadata": {},
   "outputs": [],
   "source": [
    "for i in column_name:\n",
    "    df[i+\"grp\"] = pd.qcut(df[i], q=4,\n",
    "                                  labels = False,duplicates='drop')"
   ]
  },
  {
   "cell_type": "code",
   "execution_count": 62,
   "metadata": {},
   "outputs": [],
   "source": [
    "t = ['B_current_lose_streak', 'B_current_win_streak',\n",
    "       'B_longest_win_streak', 'B_losses', 'B_total_rounds_fought',\n",
    "       'B_total_title_bouts', 'B_win_by_Decision_Majority',\n",
    "       'B_win_by_Decision_Split', 'B_win_by_Decision_Unanimous',\n",
    "       'B_win_by_KO_TKO', 'B_win_by_Submission',\n",
    "       'B_win_by_TKO_Doctor_Stoppage', 'B_wins', 'B_Height_cms', 'B_Reach_cms',\n",
    "       'B_Weight_lbs', 'R_current_lose_streak', 'R_current_win_streak',\n",
    "       'R_longest_win_streak', 'R_losses', 'R_total_rounds_fought',\n",
    "       'R_total_title_bouts', 'R_win_by_Decision_Majority',\n",
    "       'R_win_by_Decision_Split', 'R_win_by_Decision_Unanimous',\n",
    "       'R_win_by_KO_TKO', 'R_win_by_Submission',\n",
    "       'R_win_by_TKO_Doctor_Stoppage', 'R_wins', 'R_Height_cms', 'R_Reach_cms',\n",
    "       'R_Weight_lbs', 'B_age', 'R_age', 'B_Stance_Open_Stance',\n",
    "       'B_Stance_Orthodox', 'B_Stance_Sideways', 'B_Stance_Southpaw',\n",
    "       'B_Stance_Switch', 'R_Stance_Open_Stance', 'R_Stance_Orthodox',\n",
    "       'R_Stance_Southpaw', 'R_Stance_Switch']\n",
    "l = []\n",
    "for i in t:\n",
    "    l.append(i+'grp')\n",
    "l.append('Winner')\n",
    "not_used_columns = list(set(df.columns.to_list()) - set(l))\n",
    "df = pd.get_dummies(df, columns=l)\n",
    "df.drop(labels=not_used_columns, axis=1, inplace=True)"
   ]
  },
  {
   "cell_type": "markdown",
   "metadata": {},
   "source": [
    "### Appriori with Tuned Parameters"
   ]
  },
  {
   "cell_type": "markdown",
   "metadata": {},
   "source": [
    "#### Applying Apriori with for Winner = 1"
   ]
  },
  {
   "cell_type": "code",
   "execution_count": 66,
   "metadata": {},
   "outputs": [],
   "source": [
    "#df"
   ]
  },
  {
   "cell_type": "code",
   "execution_count": 64,
   "metadata": {
    "scrolled": true
   },
   "outputs": [
    {
     "data": {
      "text/html": [
       "<div>\n",
       "<style scoped>\n",
       "    .dataframe tbody tr th:only-of-type {\n",
       "        vertical-align: middle;\n",
       "    }\n",
       "\n",
       "    .dataframe tbody tr th {\n",
       "        vertical-align: top;\n",
       "    }\n",
       "\n",
       "    .dataframe thead th {\n",
       "        text-align: right;\n",
       "    }\n",
       "</style>\n",
       "<table border=\"1\" class=\"dataframe\">\n",
       "  <thead>\n",
       "    <tr style=\"text-align: right;\">\n",
       "      <th></th>\n",
       "      <th>antecedents</th>\n",
       "      <th>consequents</th>\n",
       "      <th>antecedent support</th>\n",
       "      <th>consequent support</th>\n",
       "      <th>support</th>\n",
       "      <th>confidence</th>\n",
       "      <th>lift</th>\n",
       "      <th>leverage</th>\n",
       "      <th>conviction</th>\n",
       "    </tr>\n",
       "  </thead>\n",
       "  <tbody>\n",
       "    <tr>\n",
       "      <th>11268998</th>\n",
       "      <td>(R_total_title_boutsgrp_0, R_agegrp_3, B_Reach...</td>\n",
       "      <td>(Winner_1)</td>\n",
       "      <td>0.042934</td>\n",
       "      <td>0.322114</td>\n",
       "      <td>0.023085</td>\n",
       "      <td>0.537688</td>\n",
       "      <td>1.669247</td>\n",
       "      <td>0.009256</td>\n",
       "      <td>1.466296</td>\n",
       "    </tr>\n",
       "    <tr>\n",
       "      <th>13417564</th>\n",
       "      <td>(R_total_title_boutsgrp_0, R_agegrp_3, R_Heigh...</td>\n",
       "      <td>(Winner_1)</td>\n",
       "      <td>0.039914</td>\n",
       "      <td>0.322114</td>\n",
       "      <td>0.021359</td>\n",
       "      <td>0.535135</td>\n",
       "      <td>1.661320</td>\n",
       "      <td>0.008502</td>\n",
       "      <td>1.458242</td>\n",
       "    </tr>\n",
       "    <tr>\n",
       "      <th>10657102</th>\n",
       "      <td>(R_agegrp_3, B_Reach_cmsgrp_0, B_Height_cmsgrp_0)</td>\n",
       "      <td>(Winner_1)</td>\n",
       "      <td>0.038188</td>\n",
       "      <td>0.322114</td>\n",
       "      <td>0.020280</td>\n",
       "      <td>0.531073</td>\n",
       "      <td>1.648711</td>\n",
       "      <td>0.007980</td>\n",
       "      <td>1.445612</td>\n",
       "    </tr>\n",
       "    <tr>\n",
       "      <th>13872624</th>\n",
       "      <td>(R_win_by_Submissiongrp_0, R_Reach_cmsgrp_0, R...</td>\n",
       "      <td>(Winner_1)</td>\n",
       "      <td>0.043581</td>\n",
       "      <td>0.322114</td>\n",
       "      <td>0.022869</td>\n",
       "      <td>0.524752</td>\n",
       "      <td>1.629088</td>\n",
       "      <td>0.008831</td>\n",
       "      <td>1.426384</td>\n",
       "    </tr>\n",
       "    <tr>\n",
       "      <th>2436160</th>\n",
       "      <td>(B_current_win_streakgrp_1, R_lossesgrp_2, R_t...</td>\n",
       "      <td>(Winner_1)</td>\n",
       "      <td>0.043366</td>\n",
       "      <td>0.322114</td>\n",
       "      <td>0.022654</td>\n",
       "      <td>0.522388</td>\n",
       "      <td>1.621747</td>\n",
       "      <td>0.008685</td>\n",
       "      <td>1.419323</td>\n",
       "    </tr>\n",
       "  </tbody>\n",
       "</table>\n",
       "</div>"
      ],
      "text/plain": [
       "                                                antecedents consequents  \\\n",
       "11268998  (R_total_title_boutsgrp_0, R_agegrp_3, B_Reach...  (Winner_1)   \n",
       "13417564  (R_total_title_boutsgrp_0, R_agegrp_3, R_Heigh...  (Winner_1)   \n",
       "10657102  (R_agegrp_3, B_Reach_cmsgrp_0, B_Height_cmsgrp_0)  (Winner_1)   \n",
       "13872624  (R_win_by_Submissiongrp_0, R_Reach_cmsgrp_0, R...  (Winner_1)   \n",
       "2436160   (B_current_win_streakgrp_1, R_lossesgrp_2, R_t...  (Winner_1)   \n",
       "\n",
       "          antecedent support  consequent support   support  confidence  \\\n",
       "11268998            0.042934            0.322114  0.023085    0.537688   \n",
       "13417564            0.039914            0.322114  0.021359    0.535135   \n",
       "10657102            0.038188            0.322114  0.020280    0.531073   \n",
       "13872624            0.043581            0.322114  0.022869    0.524752   \n",
       "2436160             0.043366            0.322114  0.022654    0.522388   \n",
       "\n",
       "              lift  leverage  conviction  \n",
       "11268998  1.669247  0.009256    1.466296  \n",
       "13417564  1.661320  0.008502    1.458242  \n",
       "10657102  1.648711  0.007980    1.445612  \n",
       "13872624  1.629088  0.008831    1.426384  \n",
       "2436160   1.621747  0.008685    1.419323  "
      ]
     },
     "execution_count": 64,
     "metadata": {},
     "output_type": "execute_result"
    }
   ],
   "source": [
    "#Apriori min support\n",
    "min_support = 0.02 # Since the number of Attrition = Yes is so less, min_support also needs to be small \n",
    "\n",
    "#Max lenght of apriori n-grams\n",
    "max_len = 3\n",
    "\n",
    "frequent_items = apriori(df, use_colnames=True, min_support=min_support, max_len=max_len + 1)\n",
    "rules = association_rules(frequent_items, metric='lift', min_threshold=1)\n",
    "\n",
    "target = '{\\'Winner_1\\'}'\n",
    "\n",
    "results_attrition_yes = rules[rules['consequents'].astype(str).str.contains(target, na=False)].sort_values(by='confidence', ascending=False)\n",
    "\n",
    "results_attrition_yes.head(5)"
   ]
  },
  {
   "cell_type": "markdown",
   "metadata": {},
   "source": [
    "After looking at the top 5 rules we can see that fighters who are the defending the title, are of a old age typically more than 33 years, have a good reach, and have a good height are most likely to win the match. Therefore fighter's title, age group and height are important factors while determining if the fighter will win the fight or not. "
   ]
  },
  {
   "cell_type": "markdown",
   "metadata": {},
   "source": [
    "####  Applying Apriori with for Winner = 0"
   ]
  },
  {
   "cell_type": "code",
   "execution_count": 65,
   "metadata": {},
   "outputs": [
    {
     "data": {
      "text/html": [
       "<div>\n",
       "<style scoped>\n",
       "    .dataframe tbody tr th:only-of-type {\n",
       "        vertical-align: middle;\n",
       "    }\n",
       "\n",
       "    .dataframe tbody tr th {\n",
       "        vertical-align: top;\n",
       "    }\n",
       "\n",
       "    .dataframe thead th {\n",
       "        text-align: right;\n",
       "    }\n",
       "</style>\n",
       "<table border=\"1\" class=\"dataframe\">\n",
       "  <thead>\n",
       "    <tr style=\"text-align: right;\">\n",
       "      <th></th>\n",
       "      <th>antecedents</th>\n",
       "      <th>consequents</th>\n",
       "      <th>antecedent support</th>\n",
       "      <th>consequent support</th>\n",
       "      <th>support</th>\n",
       "      <th>confidence</th>\n",
       "      <th>lift</th>\n",
       "      <th>leverage</th>\n",
       "      <th>conviction</th>\n",
       "    </tr>\n",
       "  </thead>\n",
       "  <tbody>\n",
       "    <tr>\n",
       "      <th>1080543</th>\n",
       "      <td>(R_agegrp_0, R_current_lose_streakgrp_0, B_win...</td>\n",
       "      <td>(Winner_0)</td>\n",
       "      <td>0.265156</td>\n",
       "      <td>0.677886</td>\n",
       "      <td>0.205609</td>\n",
       "      <td>0.775427</td>\n",
       "      <td>1.143891</td>\n",
       "      <td>0.025864</td>\n",
       "      <td>1.434343</td>\n",
       "    </tr>\n",
       "    <tr>\n",
       "      <th>1457416</th>\n",
       "      <td>(R_win_by_Submissiongrp_0, R_agegrp_0, R_curre...</td>\n",
       "      <td>(Winner_0)</td>\n",
       "      <td>0.268177</td>\n",
       "      <td>0.677886</td>\n",
       "      <td>0.207120</td>\n",
       "      <td>0.772325</td>\n",
       "      <td>1.139315</td>\n",
       "      <td>0.025326</td>\n",
       "      <td>1.414799</td>\n",
       "    </tr>\n",
       "    <tr>\n",
       "      <th>70036</th>\n",
       "      <td>(B_Reach_cmsgrp_1, R_Stance_Switchgrp_0)</td>\n",
       "      <td>(Winner_0)</td>\n",
       "      <td>0.277023</td>\n",
       "      <td>0.677886</td>\n",
       "      <td>0.213161</td>\n",
       "      <td>0.769470</td>\n",
       "      <td>1.135104</td>\n",
       "      <td>0.025371</td>\n",
       "      <td>1.397280</td>\n",
       "    </tr>\n",
       "    <tr>\n",
       "      <th>1398504</th>\n",
       "      <td>(B_Reach_cmsgrp_1, R_win_by_Decision_Splitgrp_...</td>\n",
       "      <td>(Winner_0)</td>\n",
       "      <td>0.277023</td>\n",
       "      <td>0.677886</td>\n",
       "      <td>0.213161</td>\n",
       "      <td>0.769470</td>\n",
       "      <td>1.135104</td>\n",
       "      <td>0.025371</td>\n",
       "      <td>1.397280</td>\n",
       "    </tr>\n",
       "    <tr>\n",
       "      <th>1401990</th>\n",
       "      <td>(B_Reach_cmsgrp_1, B_Stance_Orthodoxgrp_0, B_S...</td>\n",
       "      <td>(Winner_0)</td>\n",
       "      <td>0.277023</td>\n",
       "      <td>0.677886</td>\n",
       "      <td>0.213161</td>\n",
       "      <td>0.769470</td>\n",
       "      <td>1.135104</td>\n",
       "      <td>0.025371</td>\n",
       "      <td>1.397280</td>\n",
       "    </tr>\n",
       "  </tbody>\n",
       "</table>\n",
       "</div>"
      ],
      "text/plain": [
       "                                               antecedents consequents  \\\n",
       "1080543  (R_agegrp_0, R_current_lose_streakgrp_0, B_win...  (Winner_0)   \n",
       "1457416  (R_win_by_Submissiongrp_0, R_agegrp_0, R_curre...  (Winner_0)   \n",
       "70036             (B_Reach_cmsgrp_1, R_Stance_Switchgrp_0)  (Winner_0)   \n",
       "1398504  (B_Reach_cmsgrp_1, R_win_by_Decision_Splitgrp_...  (Winner_0)   \n",
       "1401990  (B_Reach_cmsgrp_1, B_Stance_Orthodoxgrp_0, B_S...  (Winner_0)   \n",
       "\n",
       "         antecedent support  consequent support   support  confidence  \\\n",
       "1080543            0.265156            0.677886  0.205609    0.775427   \n",
       "1457416            0.268177            0.677886  0.207120    0.772325   \n",
       "70036              0.277023            0.677886  0.213161    0.769470   \n",
       "1398504            0.277023            0.677886  0.213161    0.769470   \n",
       "1401990            0.277023            0.677886  0.213161    0.769470   \n",
       "\n",
       "             lift  leverage  conviction  \n",
       "1080543  1.143891  0.025864    1.434343  \n",
       "1457416  1.139315  0.025326    1.414799  \n",
       "70036    1.135104  0.025371    1.397280  \n",
       "1398504  1.135104  0.025371    1.397280  \n",
       "1401990  1.135104  0.025371    1.397280  "
      ]
     },
     "execution_count": 65,
     "metadata": {},
     "output_type": "execute_result"
    }
   ],
   "source": [
    "#Apriori min support\n",
    "min_support = 0.2 \n",
    "\n",
    "#Max lenght of apriori n-grams\n",
    "max_len = 3\n",
    "\n",
    "frequent_items = apriori(df, use_colnames=True, min_support=min_support, max_len=max_len + 1)\n",
    "#frequent_items = ap.apriori(df, min_support=0.8, min_confidence=0.8,\n",
    "#                              min_lift=1,min_length=2)\n",
    "rules = association_rules(frequent_items, metric='lift', min_threshold=1)\n",
    "\n",
    "target = '{\\'Winner_0\\'}'\n",
    "\n",
    "results_attrition_no = rules[rules['consequents'].astype(str).str.contains(target, na=False)].sort_values(by='confidence', ascending=False)\n",
    "\n",
    "results_attrition_no.head(5)"
   ]
  },
  {
   "cell_type": "markdown",
   "metadata": {},
   "source": [
    "After looking at the top 5 rules we can see that fighters who are young belonging to age group 0, have a good winning streak, and have a lose streak of 0 are most likely to loose the match. Therefore fighter's age group, winning or loosing streakare important factors while determining if the fighter will win the fight or not. "
   ]
  },
  {
   "cell_type": "markdown",
   "metadata": {},
   "source": [
    "## Conclusion"
   ]
  },
  {
   "cell_type": "markdown",
   "metadata": {},
   "source": [
    "**Looking at all our model's accuracy we see that we get the highest accuracy of 0.71 using Neural Network and Random Forest. With the lowest accuracy being 0.53 which we got using K Means. Since the UFC's model is able to predict the winner correctly only 57% of the time. We have increased the accuracy using our machine learning model to 71%.** "
   ]
  },
  {
   "cell_type": "code",
   "execution_count": null,
   "metadata": {},
   "outputs": [],
   "source": []
  }
 ],
 "metadata": {
  "kernelspec": {
   "display_name": "Python 3",
   "language": "python",
   "name": "python3"
  },
  "language_info": {
   "codemirror_mode": {
    "name": "ipython",
    "version": 3
   },
   "file_extension": ".py",
   "mimetype": "text/x-python",
   "name": "python",
   "nbconvert_exporter": "python",
   "pygments_lexer": "ipython3",
   "version": "3.7.9"
  }
 },
 "nbformat": 4,
 "nbformat_minor": 4
}
